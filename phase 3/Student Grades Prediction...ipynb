{
 "cells": [
  {
   "cell_type": "code",
   "execution_count": 1,
   "id": "2f18e487",
   "metadata": {},
   "outputs": [],
   "source": [
    "import pandas as pd\n",
    "import numpy as np\n",
    "import warnings\n",
    "warnings.filterwarnings('ignore')"
   ]
  },
  {
   "cell_type": "code",
   "execution_count": 2,
   "id": "82c1789f",
   "metadata": {},
   "outputs": [],
   "source": [
    "data = pd.read_csv(r'https://raw.githubusercontent.com/dsrscientist/dataset4/main/Grades.csv')"
   ]
  },
  {
   "cell_type": "code",
   "execution_count": 3,
   "id": "aba59ed2",
   "metadata": {},
   "outputs": [
    {
     "data": {
      "text/html": [
       "<div>\n",
       "<style scoped>\n",
       "    .dataframe tbody tr th:only-of-type {\n",
       "        vertical-align: middle;\n",
       "    }\n",
       "\n",
       "    .dataframe tbody tr th {\n",
       "        vertical-align: top;\n",
       "    }\n",
       "\n",
       "    .dataframe thead th {\n",
       "        text-align: right;\n",
       "    }\n",
       "</style>\n",
       "<table border=\"1\" class=\"dataframe\">\n",
       "  <thead>\n",
       "    <tr style=\"text-align: right;\">\n",
       "      <th></th>\n",
       "      <th>Seat No.</th>\n",
       "      <th>PH-121</th>\n",
       "      <th>HS-101</th>\n",
       "      <th>CY-105</th>\n",
       "      <th>HS-105/12</th>\n",
       "      <th>MT-111</th>\n",
       "      <th>CS-105</th>\n",
       "      <th>CS-106</th>\n",
       "      <th>EL-102</th>\n",
       "      <th>EE-119</th>\n",
       "      <th>...</th>\n",
       "      <th>CS-312</th>\n",
       "      <th>CS-317</th>\n",
       "      <th>CS-403</th>\n",
       "      <th>CS-421</th>\n",
       "      <th>CS-406</th>\n",
       "      <th>CS-414</th>\n",
       "      <th>CS-419</th>\n",
       "      <th>CS-423</th>\n",
       "      <th>CS-412</th>\n",
       "      <th>CGPA</th>\n",
       "    </tr>\n",
       "  </thead>\n",
       "  <tbody>\n",
       "    <tr>\n",
       "      <th>0</th>\n",
       "      <td>CS-97001</td>\n",
       "      <td>B-</td>\n",
       "      <td>D+</td>\n",
       "      <td>C-</td>\n",
       "      <td>C</td>\n",
       "      <td>C-</td>\n",
       "      <td>D+</td>\n",
       "      <td>D</td>\n",
       "      <td>C-</td>\n",
       "      <td>B-</td>\n",
       "      <td>...</td>\n",
       "      <td>C-</td>\n",
       "      <td>C-</td>\n",
       "      <td>C-</td>\n",
       "      <td>C-</td>\n",
       "      <td>A-</td>\n",
       "      <td>A</td>\n",
       "      <td>C-</td>\n",
       "      <td>B</td>\n",
       "      <td>A-</td>\n",
       "      <td>2.205</td>\n",
       "    </tr>\n",
       "    <tr>\n",
       "      <th>1</th>\n",
       "      <td>CS-97002</td>\n",
       "      <td>A</td>\n",
       "      <td>D</td>\n",
       "      <td>D+</td>\n",
       "      <td>D</td>\n",
       "      <td>B-</td>\n",
       "      <td>C</td>\n",
       "      <td>D</td>\n",
       "      <td>A</td>\n",
       "      <td>D+</td>\n",
       "      <td>...</td>\n",
       "      <td>D+</td>\n",
       "      <td>D</td>\n",
       "      <td>C</td>\n",
       "      <td>D</td>\n",
       "      <td>A-</td>\n",
       "      <td>B-</td>\n",
       "      <td>C</td>\n",
       "      <td>C</td>\n",
       "      <td>B</td>\n",
       "      <td>2.008</td>\n",
       "    </tr>\n",
       "    <tr>\n",
       "      <th>2</th>\n",
       "      <td>CS-97003</td>\n",
       "      <td>A</td>\n",
       "      <td>B</td>\n",
       "      <td>A</td>\n",
       "      <td>B-</td>\n",
       "      <td>B+</td>\n",
       "      <td>A</td>\n",
       "      <td>B-</td>\n",
       "      <td>B+</td>\n",
       "      <td>A-</td>\n",
       "      <td>...</td>\n",
       "      <td>B</td>\n",
       "      <td>B</td>\n",
       "      <td>A</td>\n",
       "      <td>C</td>\n",
       "      <td>A</td>\n",
       "      <td>A</td>\n",
       "      <td>A</td>\n",
       "      <td>A-</td>\n",
       "      <td>A</td>\n",
       "      <td>3.608</td>\n",
       "    </tr>\n",
       "    <tr>\n",
       "      <th>3</th>\n",
       "      <td>CS-97004</td>\n",
       "      <td>D</td>\n",
       "      <td>C+</td>\n",
       "      <td>D+</td>\n",
       "      <td>D</td>\n",
       "      <td>D</td>\n",
       "      <td>A-</td>\n",
       "      <td>D+</td>\n",
       "      <td>C-</td>\n",
       "      <td>D</td>\n",
       "      <td>...</td>\n",
       "      <td>D+</td>\n",
       "      <td>C</td>\n",
       "      <td>D+</td>\n",
       "      <td>C-</td>\n",
       "      <td>B-</td>\n",
       "      <td>B</td>\n",
       "      <td>C+</td>\n",
       "      <td>C+</td>\n",
       "      <td>C+</td>\n",
       "      <td>1.906</td>\n",
       "    </tr>\n",
       "    <tr>\n",
       "      <th>4</th>\n",
       "      <td>CS-97005</td>\n",
       "      <td>A-</td>\n",
       "      <td>A-</td>\n",
       "      <td>A-</td>\n",
       "      <td>B+</td>\n",
       "      <td>A</td>\n",
       "      <td>A</td>\n",
       "      <td>A-</td>\n",
       "      <td>B+</td>\n",
       "      <td>A</td>\n",
       "      <td>...</td>\n",
       "      <td>B-</td>\n",
       "      <td>B+</td>\n",
       "      <td>B+</td>\n",
       "      <td>B-</td>\n",
       "      <td>A-</td>\n",
       "      <td>A</td>\n",
       "      <td>A-</td>\n",
       "      <td>A-</td>\n",
       "      <td>A</td>\n",
       "      <td>3.448</td>\n",
       "    </tr>\n",
       "  </tbody>\n",
       "</table>\n",
       "<p>5 rows × 43 columns</p>\n",
       "</div>"
      ],
      "text/plain": [
       "   Seat No. PH-121 HS-101 CY-105 HS-105/12 MT-111 CS-105 CS-106 EL-102 EE-119  \\\n",
       "0  CS-97001     B-     D+     C-         C     C-     D+      D     C-     B-   \n",
       "1  CS-97002      A      D     D+         D     B-      C      D      A     D+   \n",
       "2  CS-97003      A      B      A        B-     B+      A     B-     B+     A-   \n",
       "3  CS-97004      D     C+     D+         D      D     A-     D+     C-      D   \n",
       "4  CS-97005     A-     A-     A-        B+      A      A     A-     B+      A   \n",
       "\n",
       "   ... CS-312 CS-317 CS-403 CS-421 CS-406 CS-414 CS-419 CS-423 CS-412   CGPA  \n",
       "0  ...     C-     C-     C-     C-     A-      A     C-      B     A-  2.205  \n",
       "1  ...     D+      D      C      D     A-     B-      C      C      B  2.008  \n",
       "2  ...      B      B      A      C      A      A      A     A-      A  3.608  \n",
       "3  ...     D+      C     D+     C-     B-      B     C+     C+     C+  1.906  \n",
       "4  ...     B-     B+     B+     B-     A-      A     A-     A-      A  3.448  \n",
       "\n",
       "[5 rows x 43 columns]"
      ]
     },
     "execution_count": 3,
     "metadata": {},
     "output_type": "execute_result"
    }
   ],
   "source": [
    "data.head()"
   ]
  },
  {
   "cell_type": "code",
   "execution_count": 4,
   "id": "8a0862a5",
   "metadata": {},
   "outputs": [
    {
     "data": {
      "text/plain": [
       "(571, 43)"
      ]
     },
     "execution_count": 4,
     "metadata": {},
     "output_type": "execute_result"
    }
   ],
   "source": [
    "data.shape"
   ]
  },
  {
   "cell_type": "code",
   "execution_count": 5,
   "id": "6f5a8aef",
   "metadata": {},
   "outputs": [],
   "source": [
    "data.set_index('Seat No.',inplace=True)"
   ]
  },
  {
   "cell_type": "code",
   "execution_count": 6,
   "id": "b5f07503",
   "metadata": {},
   "outputs": [
    {
     "data": {
      "text/html": [
       "<div>\n",
       "<style scoped>\n",
       "    .dataframe tbody tr th:only-of-type {\n",
       "        vertical-align: middle;\n",
       "    }\n",
       "\n",
       "    .dataframe tbody tr th {\n",
       "        vertical-align: top;\n",
       "    }\n",
       "\n",
       "    .dataframe thead th {\n",
       "        text-align: right;\n",
       "    }\n",
       "</style>\n",
       "<table border=\"1\" class=\"dataframe\">\n",
       "  <thead>\n",
       "    <tr style=\"text-align: right;\">\n",
       "      <th></th>\n",
       "      <th>PH-121</th>\n",
       "      <th>HS-101</th>\n",
       "      <th>CY-105</th>\n",
       "      <th>HS-105/12</th>\n",
       "      <th>MT-111</th>\n",
       "      <th>CS-105</th>\n",
       "      <th>CS-106</th>\n",
       "      <th>EL-102</th>\n",
       "      <th>EE-119</th>\n",
       "      <th>ME-107</th>\n",
       "      <th>...</th>\n",
       "      <th>CS-312</th>\n",
       "      <th>CS-317</th>\n",
       "      <th>CS-403</th>\n",
       "      <th>CS-421</th>\n",
       "      <th>CS-406</th>\n",
       "      <th>CS-414</th>\n",
       "      <th>CS-419</th>\n",
       "      <th>CS-423</th>\n",
       "      <th>CS-412</th>\n",
       "      <th>CGPA</th>\n",
       "    </tr>\n",
       "    <tr>\n",
       "      <th>Seat No.</th>\n",
       "      <th></th>\n",
       "      <th></th>\n",
       "      <th></th>\n",
       "      <th></th>\n",
       "      <th></th>\n",
       "      <th></th>\n",
       "      <th></th>\n",
       "      <th></th>\n",
       "      <th></th>\n",
       "      <th></th>\n",
       "      <th></th>\n",
       "      <th></th>\n",
       "      <th></th>\n",
       "      <th></th>\n",
       "      <th></th>\n",
       "      <th></th>\n",
       "      <th></th>\n",
       "      <th></th>\n",
       "      <th></th>\n",
       "      <th></th>\n",
       "      <th></th>\n",
       "    </tr>\n",
       "  </thead>\n",
       "  <tbody>\n",
       "    <tr>\n",
       "      <th>CS-97001</th>\n",
       "      <td>B-</td>\n",
       "      <td>D+</td>\n",
       "      <td>C-</td>\n",
       "      <td>C</td>\n",
       "      <td>C-</td>\n",
       "      <td>D+</td>\n",
       "      <td>D</td>\n",
       "      <td>C-</td>\n",
       "      <td>B-</td>\n",
       "      <td>C-</td>\n",
       "      <td>...</td>\n",
       "      <td>C-</td>\n",
       "      <td>C-</td>\n",
       "      <td>C-</td>\n",
       "      <td>C-</td>\n",
       "      <td>A-</td>\n",
       "      <td>A</td>\n",
       "      <td>C-</td>\n",
       "      <td>B</td>\n",
       "      <td>A-</td>\n",
       "      <td>2.205</td>\n",
       "    </tr>\n",
       "    <tr>\n",
       "      <th>CS-97002</th>\n",
       "      <td>A</td>\n",
       "      <td>D</td>\n",
       "      <td>D+</td>\n",
       "      <td>D</td>\n",
       "      <td>B-</td>\n",
       "      <td>C</td>\n",
       "      <td>D</td>\n",
       "      <td>A</td>\n",
       "      <td>D+</td>\n",
       "      <td>D</td>\n",
       "      <td>...</td>\n",
       "      <td>D+</td>\n",
       "      <td>D</td>\n",
       "      <td>C</td>\n",
       "      <td>D</td>\n",
       "      <td>A-</td>\n",
       "      <td>B-</td>\n",
       "      <td>C</td>\n",
       "      <td>C</td>\n",
       "      <td>B</td>\n",
       "      <td>2.008</td>\n",
       "    </tr>\n",
       "    <tr>\n",
       "      <th>CS-97003</th>\n",
       "      <td>A</td>\n",
       "      <td>B</td>\n",
       "      <td>A</td>\n",
       "      <td>B-</td>\n",
       "      <td>B+</td>\n",
       "      <td>A</td>\n",
       "      <td>B-</td>\n",
       "      <td>B+</td>\n",
       "      <td>A-</td>\n",
       "      <td>A-</td>\n",
       "      <td>...</td>\n",
       "      <td>B</td>\n",
       "      <td>B</td>\n",
       "      <td>A</td>\n",
       "      <td>C</td>\n",
       "      <td>A</td>\n",
       "      <td>A</td>\n",
       "      <td>A</td>\n",
       "      <td>A-</td>\n",
       "      <td>A</td>\n",
       "      <td>3.608</td>\n",
       "    </tr>\n",
       "    <tr>\n",
       "      <th>CS-97004</th>\n",
       "      <td>D</td>\n",
       "      <td>C+</td>\n",
       "      <td>D+</td>\n",
       "      <td>D</td>\n",
       "      <td>D</td>\n",
       "      <td>A-</td>\n",
       "      <td>D+</td>\n",
       "      <td>C-</td>\n",
       "      <td>D</td>\n",
       "      <td>C+</td>\n",
       "      <td>...</td>\n",
       "      <td>D+</td>\n",
       "      <td>C</td>\n",
       "      <td>D+</td>\n",
       "      <td>C-</td>\n",
       "      <td>B-</td>\n",
       "      <td>B</td>\n",
       "      <td>C+</td>\n",
       "      <td>C+</td>\n",
       "      <td>C+</td>\n",
       "      <td>1.906</td>\n",
       "    </tr>\n",
       "    <tr>\n",
       "      <th>CS-97005</th>\n",
       "      <td>A-</td>\n",
       "      <td>A-</td>\n",
       "      <td>A-</td>\n",
       "      <td>B+</td>\n",
       "      <td>A</td>\n",
       "      <td>A</td>\n",
       "      <td>A-</td>\n",
       "      <td>B+</td>\n",
       "      <td>A</td>\n",
       "      <td>A-</td>\n",
       "      <td>...</td>\n",
       "      <td>B-</td>\n",
       "      <td>B+</td>\n",
       "      <td>B+</td>\n",
       "      <td>B-</td>\n",
       "      <td>A-</td>\n",
       "      <td>A</td>\n",
       "      <td>A-</td>\n",
       "      <td>A-</td>\n",
       "      <td>A</td>\n",
       "      <td>3.448</td>\n",
       "    </tr>\n",
       "  </tbody>\n",
       "</table>\n",
       "<p>5 rows × 42 columns</p>\n",
       "</div>"
      ],
      "text/plain": [
       "         PH-121 HS-101 CY-105 HS-105/12 MT-111 CS-105 CS-106 EL-102 EE-119  \\\n",
       "Seat No.                                                                     \n",
       "CS-97001     B-     D+     C-         C     C-     D+      D     C-     B-   \n",
       "CS-97002      A      D     D+         D     B-      C      D      A     D+   \n",
       "CS-97003      A      B      A        B-     B+      A     B-     B+     A-   \n",
       "CS-97004      D     C+     D+         D      D     A-     D+     C-      D   \n",
       "CS-97005     A-     A-     A-        B+      A      A     A-     B+      A   \n",
       "\n",
       "         ME-107  ... CS-312 CS-317 CS-403 CS-421 CS-406 CS-414 CS-419 CS-423  \\\n",
       "Seat No.         ...                                                           \n",
       "CS-97001     C-  ...     C-     C-     C-     C-     A-      A     C-      B   \n",
       "CS-97002      D  ...     D+      D      C      D     A-     B-      C      C   \n",
       "CS-97003     A-  ...      B      B      A      C      A      A      A     A-   \n",
       "CS-97004     C+  ...     D+      C     D+     C-     B-      B     C+     C+   \n",
       "CS-97005     A-  ...     B-     B+     B+     B-     A-      A     A-     A-   \n",
       "\n",
       "         CS-412   CGPA  \n",
       "Seat No.                \n",
       "CS-97001     A-  2.205  \n",
       "CS-97002      B  2.008  \n",
       "CS-97003      A  3.608  \n",
       "CS-97004     C+  1.906  \n",
       "CS-97005      A  3.448  \n",
       "\n",
       "[5 rows x 42 columns]"
      ]
     },
     "execution_count": 6,
     "metadata": {},
     "output_type": "execute_result"
    }
   ],
   "source": [
    "data.head()"
   ]
  },
  {
   "cell_type": "code",
   "execution_count": 7,
   "id": "e36021e4",
   "metadata": {},
   "outputs": [
    {
     "name": "stdout",
     "output_type": "stream",
     "text": [
      "<class 'pandas.core.frame.DataFrame'>\n",
      "Index: 571 entries, CS-97001 to CS-97571\n",
      "Data columns (total 42 columns):\n",
      " #   Column     Non-Null Count  Dtype  \n",
      "---  ------     --------------  -----  \n",
      " 0   PH-121     571 non-null    object \n",
      " 1   HS-101     571 non-null    object \n",
      " 2   CY-105     570 non-null    object \n",
      " 3   HS-105/12  570 non-null    object \n",
      " 4   MT-111     569 non-null    object \n",
      " 5   CS-105     571 non-null    object \n",
      " 6   CS-106     569 non-null    object \n",
      " 7   EL-102     569 non-null    object \n",
      " 8   EE-119     569 non-null    object \n",
      " 9   ME-107     569 non-null    object \n",
      " 10  CS-107     569 non-null    object \n",
      " 11  HS-205/20  566 non-null    object \n",
      " 12  MT-222     566 non-null    object \n",
      " 13  EE-222     564 non-null    object \n",
      " 14  MT-224     564 non-null    object \n",
      " 15  CS-210     564 non-null    object \n",
      " 16  CS-211     566 non-null    object \n",
      " 17  CS-203     566 non-null    object \n",
      " 18  CS-214     565 non-null    object \n",
      " 19  EE-217     565 non-null    object \n",
      " 20  CS-212     565 non-null    object \n",
      " 21  CS-215     565 non-null    object \n",
      " 22  MT-331     562 non-null    object \n",
      " 23  EF-303     561 non-null    object \n",
      " 24  HS-304     561 non-null    object \n",
      " 25  CS-301     561 non-null    object \n",
      " 26  CS-302     561 non-null    object \n",
      " 27  TC-383     561 non-null    object \n",
      " 28  MT-442     561 non-null    object \n",
      " 29  EL-332     562 non-null    object \n",
      " 30  CS-318     562 non-null    object \n",
      " 31  CS-306     562 non-null    object \n",
      " 32  CS-312     561 non-null    object \n",
      " 33  CS-317     559 non-null    object \n",
      " 34  CS-403     559 non-null    object \n",
      " 35  CS-421     559 non-null    object \n",
      " 36  CS-406     486 non-null    object \n",
      " 37  CS-414     558 non-null    object \n",
      " 38  CS-419     558 non-null    object \n",
      " 39  CS-423     557 non-null    object \n",
      " 40  CS-412     492 non-null    object \n",
      " 41  CGPA       571 non-null    float64\n",
      "dtypes: float64(1), object(41)\n",
      "memory usage: 191.8+ KB\n"
     ]
    }
   ],
   "source": [
    "data.info()"
   ]
  },
  {
   "cell_type": "code",
   "execution_count": 8,
   "id": "36b42571",
   "metadata": {},
   "outputs": [
    {
     "data": {
      "text/plain": [
       "PH-121        0\n",
       "HS-101        0\n",
       "CY-105        1\n",
       "HS-105/12     1\n",
       "MT-111        2\n",
       "CS-105        0\n",
       "CS-106        2\n",
       "EL-102        2\n",
       "EE-119        2\n",
       "ME-107        2\n",
       "CS-107        2\n",
       "HS-205/20     5\n",
       "MT-222        5\n",
       "EE-222        7\n",
       "MT-224        7\n",
       "CS-210        7\n",
       "CS-211        5\n",
       "CS-203        5\n",
       "CS-214        6\n",
       "EE-217        6\n",
       "CS-212        6\n",
       "CS-215        6\n",
       "MT-331        9\n",
       "EF-303       10\n",
       "HS-304       10\n",
       "CS-301       10\n",
       "CS-302       10\n",
       "TC-383       10\n",
       "MT-442       10\n",
       "EL-332        9\n",
       "CS-318        9\n",
       "CS-306        9\n",
       "CS-312       10\n",
       "CS-317       12\n",
       "CS-403       12\n",
       "CS-421       12\n",
       "CS-406       85\n",
       "CS-414       13\n",
       "CS-419       13\n",
       "CS-423       14\n",
       "CS-412       79\n",
       "CGPA          0\n",
       "dtype: int64"
      ]
     },
     "execution_count": 8,
     "metadata": {},
     "output_type": "execute_result"
    }
   ],
   "source": [
    "data.isna().sum()"
   ]
  },
  {
   "cell_type": "markdown",
   "id": "8817b3c2",
   "metadata": {},
   "source": [
    "null values are present in many of the columns"
   ]
  },
  {
   "cell_type": "code",
   "execution_count": 9,
   "id": "a0e43c74",
   "metadata": {},
   "outputs": [],
   "source": [
    "for column in data:\n",
    "    if data[column].isna().sum !=0:\n",
    "        data[column].replace({np.nan:'Unknown'},inplace=True)"
   ]
  },
  {
   "cell_type": "markdown",
   "id": "95635653",
   "metadata": {},
   "source": [
    "replacing all null values with unknown string"
   ]
  },
  {
   "cell_type": "code",
   "execution_count": 10,
   "id": "5df7a80c",
   "metadata": {},
   "outputs": [
    {
     "name": "stdout",
     "output_type": "stream",
     "text": [
      "Column Name:PH-121\n",
      "Total Unique Values:-13 \n",
      "A-    112\n",
      "A     111\n",
      "B+     61\n",
      "B      57\n",
      "B-     56\n",
      "D      44\n",
      "C      33\n",
      "C+     31\n",
      "D+     22\n",
      "A+     22\n",
      "C-     19\n",
      "WU      2\n",
      "F       1\n",
      "Name: PH-121, dtype: int64\n",
      " \n",
      "Column Name:HS-101\n",
      "Total Unique Values:-12 \n",
      "A-    82\n",
      "B-    78\n",
      "C     68\n",
      "B     63\n",
      "B+    59\n",
      "C-    50\n",
      "C+    47\n",
      "D     45\n",
      "A     38\n",
      "D+    36\n",
      "A+     4\n",
      "F      1\n",
      "Name: HS-101, dtype: int64\n",
      " \n",
      "Column Name:CY-105\n",
      "Total Unique Values:-14 \n",
      "A          177\n",
      "A-         120\n",
      "B+          50\n",
      "B           49\n",
      "B-          42\n",
      "D           31\n",
      "A+          31\n",
      "C           19\n",
      "C+          17\n",
      "C-          16\n",
      "D+          14\n",
      "WU           3\n",
      "Unknown      1\n",
      "F            1\n",
      "Name: CY-105, dtype: int64\n",
      " \n",
      "Column Name:HS-105/12\n",
      "Total Unique Values:-14 \n",
      "A          96\n",
      "A-         75\n",
      "B+         70\n",
      "B          57\n",
      "D          45\n",
      "C          41\n",
      "B-         40\n",
      "C+         39\n",
      "C-         36\n",
      "D+         34\n",
      "A+         34\n",
      "WU          2\n",
      "Unknown     1\n",
      "F           1\n",
      "Name: HS-105/12, dtype: int64\n",
      " \n",
      "Column Name:MT-111\n",
      "Total Unique Values:-14 \n",
      "A-         105\n",
      "A          100\n",
      "B-          70\n",
      "B+          62\n",
      "B           55\n",
      "C-          39\n",
      "C+          33\n",
      "C           30\n",
      "D           26\n",
      "A+          23\n",
      "D+          21\n",
      "WU           3\n",
      "Unknown      2\n",
      "F            2\n",
      "Name: MT-111, dtype: int64\n",
      " \n",
      "Column Name:CS-105\n",
      "Total Unique Values:-11 \n",
      "A     151\n",
      "A-    134\n",
      "B+     60\n",
      "B      51\n",
      "A+     43\n",
      "B-     38\n",
      "C+     23\n",
      "C      22\n",
      "C-     22\n",
      "D+     15\n",
      "D      12\n",
      "Name: CS-105, dtype: int64\n",
      " \n",
      "Column Name:CS-106\n",
      "Total Unique Values:-14 \n",
      "A-         116\n",
      "B+         101\n",
      "B           96\n",
      "A           56\n",
      "B-          54\n",
      "C+          41\n",
      "D+          29\n",
      "C-          27\n",
      "D           24\n",
      "C           18\n",
      "A+           4\n",
      "Unknown      2\n",
      "WU           2\n",
      "F            1\n",
      "Name: CS-106, dtype: int64\n",
      " \n",
      "Column Name:EL-102\n",
      "Total Unique Values:-14 \n",
      "A-         105\n",
      "A           92\n",
      "B+          69\n",
      "B           59\n",
      "B-          53\n",
      "D           38\n",
      "C+          35\n",
      "C-          32\n",
      "C           30\n",
      "A+          29\n",
      "D+          23\n",
      "WU           3\n",
      "Unknown      2\n",
      "F            1\n",
      "Name: EL-102, dtype: int64\n",
      " \n",
      "Column Name:EE-119\n",
      "Total Unique Values:-13 \n",
      "A-         137\n",
      "B+          83\n",
      "B           77\n",
      "A           68\n",
      "B-          48\n",
      "C           48\n",
      "C+          38\n",
      "D+          26\n",
      "C-          26\n",
      "D           11\n",
      "A+           6\n",
      "Unknown      2\n",
      "WU           1\n",
      "Name: EE-119, dtype: int64\n",
      " \n",
      "Column Name:ME-107\n",
      "Total Unique Values:-14 \n",
      "A-         79\n",
      "A          77\n",
      "B+         68\n",
      "D          56\n",
      "B-         56\n",
      "B          50\n",
      "C          49\n",
      "C-         48\n",
      "C+         37\n",
      "D+         37\n",
      "A+          8\n",
      "WU          2\n",
      "Unknown     2\n",
      "F           2\n",
      "Name: ME-107, dtype: int64\n",
      " \n",
      "Column Name:CS-107\n",
      "Total Unique Values:-15 \n",
      "A          105\n",
      "A-          81\n",
      "B+          57\n",
      "B           55\n",
      "C-          49\n",
      "B-          43\n",
      "A+          42\n",
      "D           38\n",
      "C+          34\n",
      "D+          31\n",
      "C           30\n",
      "Unknown      2\n",
      "WU           2\n",
      "I            1\n",
      "F            1\n",
      "Name: CS-107, dtype: int64\n",
      " \n",
      "Column Name:HS-205/20\n",
      "Total Unique Values:-14 \n",
      "A-         150\n",
      "A          118\n",
      "B           97\n",
      "B+          89\n",
      "B-          36\n",
      "C+          33\n",
      "C           15\n",
      "C-          11\n",
      "D+           9\n",
      "Unknown      5\n",
      "D            3\n",
      "A+           2\n",
      "F            2\n",
      "WU           1\n",
      "Name: HS-205/20, dtype: int64\n",
      " \n",
      "Column Name:MT-222\n",
      "Total Unique Values:-15 \n",
      "A-         86\n",
      "A          80\n",
      "D          66\n",
      "B          61\n",
      "B-         52\n",
      "D+         46\n",
      "C          43\n",
      "B+         42\n",
      "C+         39\n",
      "C-         30\n",
      "A+         16\n",
      "Unknown     5\n",
      "F           3\n",
      "WU          1\n",
      "W           1\n",
      "Name: MT-222, dtype: int64\n",
      " \n",
      "Column Name:EE-222\n",
      "Total Unique Values:-14 \n",
      "A          122\n",
      "A-         121\n",
      "B+          65\n",
      "B           53\n",
      "C           39\n",
      "B-          35\n",
      "A+          32\n",
      "C+          29\n",
      "D           25\n",
      "D+          21\n",
      "C-          16\n",
      "Unknown      7\n",
      "F            4\n",
      "W            2\n",
      "Name: EE-222, dtype: int64\n",
      " \n",
      "Column Name:MT-224\n",
      "Total Unique Values:-15 \n",
      "A-         120\n",
      "A           80\n",
      "B+          65\n",
      "B           57\n",
      "B-          49\n",
      "C-          43\n",
      "C+          39\n",
      "D+          37\n",
      "D           31\n",
      "C           30\n",
      "A+          10\n",
      "Unknown      7\n",
      "WU           1\n",
      "W            1\n",
      "F            1\n",
      "Name: MT-224, dtype: int64\n",
      " \n",
      "Column Name:CS-210\n",
      "Total Unique Values:-15 \n",
      "A-         133\n",
      "A          101\n",
      "B+          84\n",
      "B           59\n",
      "B-          58\n",
      "C           30\n",
      "C+          27\n",
      "C-          24\n",
      "D+          21\n",
      "D           12\n",
      "A+          12\n",
      "Unknown      7\n",
      "WU           1\n",
      "W            1\n",
      "F            1\n",
      "Name: CS-210, dtype: int64\n",
      " \n",
      "Column Name:CS-211\n",
      "Total Unique Values:-15 \n",
      "A-         68\n",
      "A          67\n",
      "B-         60\n",
      "D+         56\n",
      "B+         56\n",
      "B          56\n",
      "C+         55\n",
      "C-         50\n",
      "C          39\n",
      "D          33\n",
      "A+         21\n",
      "Unknown     5\n",
      "F           3\n",
      "WU          1\n",
      "W           1\n",
      "Name: CS-211, dtype: int64\n",
      " \n",
      "Column Name:CS-203\n",
      "Total Unique Values:-14 \n",
      "A-         88\n",
      "A          81\n",
      "B          66\n",
      "C+         62\n",
      "B+         59\n",
      "B-         53\n",
      "D+         39\n",
      "C          35\n",
      "C-         35\n",
      "D          30\n",
      "A+         15\n",
      "Unknown     5\n",
      "F           2\n",
      "I           1\n",
      "Name: CS-203, dtype: int64\n",
      " \n",
      "Column Name:CS-214\n",
      "Total Unique Values:-14 \n",
      "C          76\n",
      "A-         73\n",
      "B          63\n",
      "C-         57\n",
      "B-         56\n",
      "A          56\n",
      "D+         47\n",
      "C+         46\n",
      "B+         45\n",
      "D          31\n",
      "A+         12\n",
      "Unknown     6\n",
      "F           2\n",
      "I           1\n",
      "Name: CS-214, dtype: int64\n",
      " \n",
      "Column Name:EE-217\n",
      "Total Unique Values:-14 \n",
      "A-         137\n",
      "A           97\n",
      "B+          70\n",
      "B           63\n",
      "B-          57\n",
      "C           36\n",
      "C+          29\n",
      "A+          22\n",
      "C-          20\n",
      "D+          19\n",
      "D           12\n",
      "Unknown      6\n",
      "F            2\n",
      "WU           1\n",
      "Name: EE-217, dtype: int64\n",
      " \n",
      "Column Name:CS-212\n",
      "Total Unique Values:-13 \n",
      "A-         101\n",
      "B+          86\n",
      "B           81\n",
      "B-          65\n",
      "C           44\n",
      "A           43\n",
      "D+          36\n",
      "C+          35\n",
      "C-          35\n",
      "D           33\n",
      "Unknown      6\n",
      "A+           4\n",
      "WU           2\n",
      "Name: CS-212, dtype: int64\n",
      " \n",
      "Column Name:CS-215\n",
      "Total Unique Values:-15 \n",
      "A-         79\n",
      "A          68\n",
      "B          64\n",
      "B-         59\n",
      "C+         50\n",
      "B+         50\n",
      "C          48\n",
      "C-         47\n",
      "D          42\n",
      "D+         38\n",
      "A+         17\n",
      "Unknown     6\n",
      "WU          1\n",
      "W           1\n",
      "F           1\n",
      "Name: CS-215, dtype: int64\n",
      " \n",
      "Column Name:MT-331\n",
      "Total Unique Values:-13 \n",
      "A          118\n",
      "A-         103\n",
      "B+          64\n",
      "B           57\n",
      "B-          46\n",
      "C-          32\n",
      "D+          31\n",
      "A+          30\n",
      "C           28\n",
      "C+          27\n",
      "D           22\n",
      "Unknown      9\n",
      "F            4\n",
      "Name: MT-331, dtype: int64\n",
      " \n",
      "Column Name:EF-303\n",
      "Total Unique Values:-13 \n",
      "B          112\n",
      "B-          92\n",
      "C           61\n",
      "B+          59\n",
      "C+          58\n",
      "C-          56\n",
      "D+          49\n",
      "A-          38\n",
      "D           19\n",
      "A           14\n",
      "Unknown     10\n",
      "F            2\n",
      "WU           1\n",
      "Name: EF-303, dtype: int64\n",
      " \n",
      "Column Name:HS-304\n",
      "Total Unique Values:-15 \n",
      "A-         128\n",
      "B           72\n",
      "B-          70\n",
      "B+          66\n",
      "C           58\n",
      "C+          53\n",
      "C-          33\n",
      "A           28\n",
      "D           20\n",
      "D+          19\n",
      "Unknown     10\n",
      "F            6\n",
      "A+           4\n",
      "WU           2\n",
      "W            2\n",
      "Name: HS-304, dtype: int64\n",
      " \n",
      "Column Name:CS-301\n",
      "Total Unique Values:-13 \n",
      "A-         108\n",
      "B+          74\n",
      "B           71\n",
      "A           66\n",
      "B-          60\n",
      "C           41\n",
      "C+          37\n",
      "C-          36\n",
      "D           29\n",
      "D+          29\n",
      "Unknown     10\n",
      "A+           9\n",
      "F            1\n",
      "Name: CS-301, dtype: int64\n",
      " \n",
      "Column Name:CS-302\n",
      "Total Unique Values:-12 \n",
      "A-         113\n",
      "B          102\n",
      "A           86\n",
      "B+          81\n",
      "B-          60\n",
      "C+          32\n",
      "C           28\n",
      "D           21\n",
      "C-          19\n",
      "D+          10\n",
      "Unknown     10\n",
      "A+           9\n",
      "Name: CS-302, dtype: int64\n",
      " \n",
      "Column Name:TC-383\n",
      "Total Unique Values:-13 \n",
      "A          105\n",
      "A-          73\n",
      "B+          68\n",
      "B           59\n",
      "C+          44\n",
      "D+          44\n",
      "C-          42\n",
      "C           42\n",
      "B-          40\n",
      "A+          23\n",
      "D           20\n",
      "Unknown     10\n",
      "F            1\n",
      "Name: TC-383, dtype: int64\n",
      " \n",
      "Column Name:MT-442\n",
      "Total Unique Values:-13 \n",
      "A-         140\n",
      "A          130\n",
      "B+          65\n",
      "B           47\n",
      "A+          39\n",
      "B-          30\n",
      "C-          28\n",
      "C+          24\n",
      "C           24\n",
      "D           20\n",
      "D+          13\n",
      "Unknown     10\n",
      "F            1\n",
      "Name: MT-442, dtype: int64\n",
      " \n",
      "Column Name:EL-332\n",
      "Total Unique Values:-14 \n",
      "A-         96\n",
      "A          76\n",
      "B+         68\n",
      "B          67\n",
      "B-         62\n",
      "C          49\n",
      "C+         38\n",
      "C-         32\n",
      "D+         22\n",
      "D          22\n",
      "A+         20\n",
      "Unknown     9\n",
      "F           9\n",
      "WU          1\n",
      "Name: EL-332, dtype: int64\n",
      " \n",
      "Column Name:CS-318\n",
      "Total Unique Values:-15 \n",
      "A-         89\n",
      "B-         69\n",
      "B          68\n",
      "B+         65\n",
      "C          53\n",
      "C+         49\n",
      "A          42\n",
      "C-         40\n",
      "D          36\n",
      "D+         29\n",
      "F          10\n",
      "Unknown     9\n",
      "A+          6\n",
      "WU          5\n",
      "W           1\n",
      "Name: CS-318, dtype: int64\n",
      " \n",
      "Column Name:CS-306\n",
      "Total Unique Values:-14 \n",
      "A-         120\n",
      "B+          75\n",
      "A           74\n",
      "B-          64\n",
      "B           53\n",
      "C-          40\n",
      "C           37\n",
      "C+          36\n",
      "D           31\n",
      "D+          18\n",
      "A+          10\n",
      "Unknown      9\n",
      "F            3\n",
      "WU           1\n",
      "Name: CS-306, dtype: int64\n",
      " \n",
      "Column Name:CS-312\n",
      "Total Unique Values:-15 \n",
      "A+         93\n",
      "A          86\n",
      "A-         63\n",
      "D+         52\n",
      "C          48\n",
      "C-         44\n",
      "B+         42\n",
      "B          37\n",
      "C+         37\n",
      "B-         36\n",
      "D          19\n",
      "Unknown    10\n",
      "F           2\n",
      "W           1\n",
      "WU          1\n",
      "Name: CS-312, dtype: int64\n",
      " \n",
      "Column Name:CS-317\n",
      "Total Unique Values:-13 \n",
      "B-         79\n",
      "B          75\n",
      "C          70\n",
      "A-         66\n",
      "B+         58\n",
      "C+         57\n",
      "A          47\n",
      "C-         41\n",
      "D+         34\n",
      "D          16\n",
      "Unknown    12\n",
      "A+          9\n",
      "F           7\n",
      "Name: CS-317, dtype: int64\n",
      " \n",
      "Column Name:CS-403\n",
      "Total Unique Values:-12 \n",
      "A          133\n",
      "A-         106\n",
      "B+          62\n",
      "B-          55\n",
      "B           54\n",
      "D+          35\n",
      "C           33\n",
      "C+          32\n",
      "C-          30\n",
      "A+          15\n",
      "Unknown     12\n",
      "D            4\n",
      "Name: CS-403, dtype: int64\n",
      " \n",
      "Column Name:CS-421\n",
      "Total Unique Values:-14 \n",
      "B          86\n",
      "B-         74\n",
      "C          68\n",
      "C+         61\n",
      "C-         60\n",
      "B+         60\n",
      "A-         47\n",
      "D+         36\n",
      "A          25\n",
      "D          21\n",
      "F          17\n",
      "Unknown    12\n",
      "A+          2\n",
      "W           2\n",
      "Name: CS-421, dtype: int64\n",
      " \n",
      "Column Name:CS-406\n",
      "Total Unique Values:-15 \n",
      "A-         177\n",
      "Unknown     85\n",
      "A           79\n",
      "B+          64\n",
      "B           58\n",
      "B-          22\n",
      "C+          22\n",
      "C           19\n",
      "D+          14\n",
      "C-           8\n",
      "A+           8\n",
      "F            6\n",
      "D            5\n",
      "W            3\n",
      "WU           1\n",
      "Name: CS-406, dtype: int64\n",
      " \n",
      "Column Name:CS-414\n",
      "Total Unique Values:-14 \n",
      "A          176\n",
      "A-         156\n",
      "B+          62\n",
      "B           54\n",
      "B-          21\n",
      "A+          21\n",
      "C+          21\n",
      "C           20\n",
      "Unknown     13\n",
      "C-          12\n",
      "F            7\n",
      "D+           3\n",
      "D            3\n",
      "W            2\n",
      "Name: CS-414, dtype: int64\n",
      " \n",
      "Column Name:CS-419\n",
      "Total Unique Values:-13 \n",
      "A-         120\n",
      "B           89\n",
      "B+          85\n",
      "B-          78\n",
      "A           56\n",
      "C+          46\n",
      "C           40\n",
      "C-          20\n",
      "Unknown     13\n",
      "D+          13\n",
      "D            7\n",
      "A+           2\n",
      "F            2\n",
      "Name: CS-419, dtype: int64\n",
      " \n",
      "Column Name:CS-423\n",
      "Total Unique Values:-13 \n",
      "A-         122\n",
      "A           78\n",
      "B+          75\n",
      "B           65\n",
      "B-          56\n",
      "C           45\n",
      "C+          39\n",
      "C-          29\n",
      "D+          25\n",
      "D           15\n",
      "Unknown     14\n",
      "F            5\n",
      "A+           3\n",
      "Name: CS-423, dtype: int64\n",
      " \n",
      "Column Name:CS-412\n",
      "Total Unique Values:-14 \n",
      "A-         157\n",
      "B+          80\n",
      "Unknown     79\n",
      "A           77\n",
      "B           65\n",
      "B-          37\n",
      "C+          24\n",
      "C           19\n",
      "D+           8\n",
      "C-           7\n",
      "F            6\n",
      "D            5\n",
      "A+           4\n",
      "W            3\n",
      "Name: CS-412, dtype: int64\n",
      " \n",
      "Column Name:CGPA\n",
      "Total Unique Values:-491 \n",
      "3.019    5\n",
      "3.058    3\n",
      "2.793    3\n",
      "3.443    3\n",
      "2.206    3\n",
      "        ..\n",
      "2.555    1\n",
      "2.042    1\n",
      "2.634    1\n",
      "2.053    1\n",
      "1.753    1\n",
      "Name: CGPA, Length: 491, dtype: int64\n",
      " \n"
     ]
    }
   ],
   "source": [
    "for column in data:\n",
    "    print(f\"Column Name:{column}\\nTotal Unique Values:-{data[column].nunique()} \\n{data[column].value_counts()}\\n \")    "
   ]
  },
  {
   "cell_type": "code",
   "execution_count": 11,
   "id": "7757f6cb",
   "metadata": {},
   "outputs": [],
   "source": [
    "import matplotlib.pyplot as plt\n",
    "import seaborn as sns"
   ]
  },
  {
   "cell_type": "code",
   "execution_count": 12,
   "id": "2e112e39",
   "metadata": {},
   "outputs": [
    {
     "data": {
      "image/png": "[encoded data removed]",
      "text/plain": [
       "<Figure size 2160x1440 with 41 Axes>"
      ]
     },
     "metadata": {
      "needs_background": "light"
     },
     "output_type": "display_data"
    }
   ],
   "source": [
    "plt.figure(figsize=(30,20))\n",
    "plotnumber = 1\n",
    "\n",
    "for column in data:\n",
    "    if plotnumber<=41:\n",
    "        plt.subplot(9,5,plotnumber)\n",
    "        sns.countplot(x=data[column])\n",
    "        plt.xlabel(column)\n",
    "    plotnumber+=1\n",
    "plt.show()"
   ]
  },
  {
   "cell_type": "code",
   "execution_count": 13,
   "id": "b4c4c513",
   "metadata": {},
   "outputs": [],
   "source": [
    "from sklearn.preprocessing import LabelEncoder"
   ]
  },
  {
   "cell_type": "code",
   "execution_count": 14,
   "id": "b336f318",
   "metadata": {},
   "outputs": [],
   "source": [
    "cat_data = data.select_dtypes('object').columns.tolist()"
   ]
  },
  {
   "cell_type": "code",
   "execution_count": 15,
   "id": "088537bf",
   "metadata": {},
   "outputs": [
    {
     "data": {
      "text/plain": [
       "41"
      ]
     },
     "execution_count": 15,
     "metadata": {},
     "output_type": "execute_result"
    }
   ],
   "source": [
    "len(cat_data)"
   ]
  },
  {
   "cell_type": "code",
   "execution_count": 16,
   "id": "a3794e4a",
   "metadata": {},
   "outputs": [],
   "source": [
    "le = LabelEncoder()"
   ]
  },
  {
   "cell_type": "code",
   "execution_count": 17,
   "id": "785bf082",
   "metadata": {
    "scrolled": true
   },
   "outputs": [
    {
     "data": {
      "text/plain": [
       "['PH-121',\n",
       " 'HS-101',\n",
       " 'CY-105',\n",
       " 'HS-105/12',\n",
       " 'MT-111',\n",
       " 'CS-105',\n",
       " 'CS-106',\n",
       " 'EL-102',\n",
       " 'EE-119',\n",
       " 'ME-107',\n",
       " 'CS-107',\n",
       " 'HS-205/20',\n",
       " 'MT-222',\n",
       " 'EE-222',\n",
       " 'MT-224',\n",
       " 'CS-210',\n",
       " 'CS-211',\n",
       " 'CS-203',\n",
       " 'CS-214',\n",
       " 'EE-217',\n",
       " 'CS-212',\n",
       " 'CS-215',\n",
       " 'MT-331',\n",
       " 'EF-303',\n",
       " 'HS-304',\n",
       " 'CS-301',\n",
       " 'CS-302',\n",
       " 'TC-383',\n",
       " 'MT-442',\n",
       " 'EL-332',\n",
       " 'CS-318',\n",
       " 'CS-306',\n",
       " 'CS-312',\n",
       " 'CS-317',\n",
       " 'CS-403',\n",
       " 'CS-421',\n",
       " 'CS-406',\n",
       " 'CS-414',\n",
       " 'CS-419',\n",
       " 'CS-423',\n",
       " 'CS-412']"
      ]
     },
     "execution_count": 17,
     "metadata": {},
     "output_type": "execute_result"
    }
   ],
   "source": [
    "cat_data"
   ]
  },
  {
   "cell_type": "code",
   "execution_count": 18,
   "id": "d294c1a7",
   "metadata": {},
   "outputs": [],
   "source": [
    "data['PH-121'] = le.fit_transform(data['PH-121'])"
   ]
  },
  {
   "cell_type": "code",
   "execution_count": 19,
   "id": "62db3162",
   "metadata": {},
   "outputs": [],
   "source": [
    "data['HS-101'] = le.fit_transform(data['HS-101'])"
   ]
  },
  {
   "cell_type": "code",
   "execution_count": 20,
   "id": "da204e7f",
   "metadata": {},
   "outputs": [],
   "source": [
    "data['CY-105'] = le.fit_transform(data['CY-105'])"
   ]
  },
  {
   "cell_type": "code",
   "execution_count": 21,
   "id": "d991d298",
   "metadata": {},
   "outputs": [],
   "source": [
    "data['HS-105/12'] = le.fit_transform(data['HS-105/12'])"
   ]
  },
  {
   "cell_type": "code",
   "execution_count": 22,
   "id": "9b677fd2",
   "metadata": {},
   "outputs": [],
   "source": [
    "data['MT-111'] = le.fit_transform(data['MT-111'])"
   ]
  },
  {
   "cell_type": "code",
   "execution_count": 23,
   "id": "3ce081eb",
   "metadata": {},
   "outputs": [],
   "source": [
    "data['CS-105'] = le.fit_transform(data['CS-105'])"
   ]
  },
  {
   "cell_type": "code",
   "execution_count": 24,
   "id": "2ee346b5",
   "metadata": {},
   "outputs": [],
   "source": [
    "data['CS-106'] = le.fit_transform(data['CS-106'])"
   ]
  },
  {
   "cell_type": "code",
   "execution_count": 25,
   "id": "7c60664a",
   "metadata": {},
   "outputs": [],
   "source": [
    "data['EL-102'] = le.fit_transform(data['EL-102'])"
   ]
  },
  {
   "cell_type": "code",
   "execution_count": 26,
   "id": "ceb73bdd",
   "metadata": {},
   "outputs": [],
   "source": [
    "data['EE-119'] = le.fit_transform(data['EE-119'])"
   ]
  },
  {
   "cell_type": "code",
   "execution_count": 27,
   "id": "52d7e907",
   "metadata": {},
   "outputs": [],
   "source": [
    "data['ME-107'] = le.fit_transform(data['ME-107'])"
   ]
  },
  {
   "cell_type": "code",
   "execution_count": 28,
   "id": "435044a1",
   "metadata": {},
   "outputs": [],
   "source": [
    "data['CS-107'] = le.fit_transform(data['CS-107'])"
   ]
  },
  {
   "cell_type": "code",
   "execution_count": 29,
   "id": "6e75a4f6",
   "metadata": {},
   "outputs": [],
   "source": [
    "data['HS-205/20'] = le.fit_transform(data['HS-205/20'])"
   ]
  },
  {
   "cell_type": "code",
   "execution_count": 30,
   "id": "02cc9b0a",
   "metadata": {},
   "outputs": [],
   "source": [
    "data['MT-222'] = le.fit_transform(data['MT-222'])"
   ]
  },
  {
   "cell_type": "code",
   "execution_count": 31,
   "id": "390dfa40",
   "metadata": {},
   "outputs": [],
   "source": [
    "data['EE-222'] = le.fit_transform(data['EE-222'])"
   ]
  },
  {
   "cell_type": "code",
   "execution_count": 32,
   "id": "9b4340c0",
   "metadata": {},
   "outputs": [],
   "source": [
    "data['MT-224'] = le.fit_transform(data['MT-224'])"
   ]
  },
  {
   "cell_type": "code",
   "execution_count": 33,
   "id": "050c1731",
   "metadata": {},
   "outputs": [],
   "source": [
    "data['CS-210'] = le.fit_transform(data['CS-210'])"
   ]
  },
  {
   "cell_type": "code",
   "execution_count": 34,
   "id": "7232d654",
   "metadata": {},
   "outputs": [],
   "source": [
    "data['CS-211'] = le.fit_transform(data['CS-211'])"
   ]
  },
  {
   "cell_type": "code",
   "execution_count": 35,
   "id": "534e3c5a",
   "metadata": {},
   "outputs": [],
   "source": [
    "data['CS-203'] = le.fit_transform(data['CS-203'])"
   ]
  },
  {
   "cell_type": "code",
   "execution_count": 36,
   "id": "0a31b7b4",
   "metadata": {},
   "outputs": [],
   "source": [
    "data['CS-214'] = le.fit_transform(data['CS-214'])"
   ]
  },
  {
   "cell_type": "code",
   "execution_count": 37,
   "id": "4bb38130",
   "metadata": {},
   "outputs": [],
   "source": [
    "data['EE-217'] = le.fit_transform(data['EE-217'])"
   ]
  },
  {
   "cell_type": "code",
   "execution_count": 38,
   "id": "ef011c50",
   "metadata": {},
   "outputs": [],
   "source": [
    "data['CS-212'] = le.fit_transform(data['CS-212'])"
   ]
  },
  {
   "cell_type": "code",
   "execution_count": 39,
   "id": "2bf845cb",
   "metadata": {},
   "outputs": [],
   "source": [
    "data['CS-215'] = le.fit_transform(data['CS-215'])"
   ]
  },
  {
   "cell_type": "code",
   "execution_count": 40,
   "id": "07b21047",
   "metadata": {},
   "outputs": [],
   "source": [
    "data['MT-331'] = le.fit_transform(data['MT-331'])"
   ]
  },
  {
   "cell_type": "code",
   "execution_count": 41,
   "id": "b90d2a26",
   "metadata": {},
   "outputs": [],
   "source": [
    "data['EF-303'] = le.fit_transform(data['EF-303'])"
   ]
  },
  {
   "cell_type": "code",
   "execution_count": 42,
   "id": "8c92540e",
   "metadata": {},
   "outputs": [],
   "source": [
    "data['HS-304'] = le.fit_transform(data['HS-304'])"
   ]
  },
  {
   "cell_type": "code",
   "execution_count": 43,
   "id": "7e2a6c02",
   "metadata": {},
   "outputs": [],
   "source": [
    "data['CS-301'] = le.fit_transform(data['CS-301'])"
   ]
  },
  {
   "cell_type": "code",
   "execution_count": 44,
   "id": "f37fd663",
   "metadata": {},
   "outputs": [],
   "source": [
    "data['CS-302'] = le.fit_transform(data['CS-302'])"
   ]
  },
  {
   "cell_type": "code",
   "execution_count": 45,
   "id": "742abd26",
   "metadata": {},
   "outputs": [],
   "source": [
    "data['TC-383'] = le.fit_transform(data['TC-383'])"
   ]
  },
  {
   "cell_type": "code",
   "execution_count": 46,
   "id": "df0dbdd7",
   "metadata": {},
   "outputs": [],
   "source": [
    "data['MT-442'] = le.fit_transform(data['MT-442'])"
   ]
  },
  {
   "cell_type": "code",
   "execution_count": 47,
   "id": "4d86af70",
   "metadata": {},
   "outputs": [],
   "source": [
    "data['EL-332'] = le.fit_transform(data['EL-332'])"
   ]
  },
  {
   "cell_type": "code",
   "execution_count": 48,
   "id": "612be51a",
   "metadata": {},
   "outputs": [],
   "source": [
    "data['CS-318'] = le.fit_transform(data['CS-318'])"
   ]
  },
  {
   "cell_type": "code",
   "execution_count": 49,
   "id": "9f0a5cfb",
   "metadata": {},
   "outputs": [],
   "source": [
    "data['CS-306'] = le.fit_transform(data['CS-306'])"
   ]
  },
  {
   "cell_type": "code",
   "execution_count": 50,
   "id": "c7f686f5",
   "metadata": {},
   "outputs": [],
   "source": [
    "data['CS-312'] = le.fit_transform(data['CS-312'])"
   ]
  },
  {
   "cell_type": "code",
   "execution_count": 51,
   "id": "87b8fee7",
   "metadata": {},
   "outputs": [],
   "source": [
    "data['CS-403'] = le.fit_transform(data['CS-403'])"
   ]
  },
  {
   "cell_type": "code",
   "execution_count": 52,
   "id": "54888cf5",
   "metadata": {},
   "outputs": [],
   "source": [
    "data['CS-317'] = le.fit_transform(data['CS-317'])"
   ]
  },
  {
   "cell_type": "code",
   "execution_count": 53,
   "id": "524ee6cf",
   "metadata": {},
   "outputs": [],
   "source": [
    "data['CS-421'] = le.fit_transform(data['CS-421'])"
   ]
  },
  {
   "cell_type": "code",
   "execution_count": 54,
   "id": "545da55e",
   "metadata": {},
   "outputs": [],
   "source": [
    "data['CS-406'] = le.fit_transform(data['CS-406'])"
   ]
  },
  {
   "cell_type": "code",
   "execution_count": 55,
   "id": "c844fd00",
   "metadata": {},
   "outputs": [],
   "source": [
    "data['CS-414'] = le.fit_transform(data['CS-414'])"
   ]
  },
  {
   "cell_type": "code",
   "execution_count": 56,
   "id": "e0184034",
   "metadata": {},
   "outputs": [],
   "source": [
    "data['CS-419'] = le.fit_transform(data['CS-419'])"
   ]
  },
  {
   "cell_type": "code",
   "execution_count": 57,
   "id": "8d67c01b",
   "metadata": {},
   "outputs": [],
   "source": [
    "data['CS-423'] = le.fit_transform(data['CS-423'])"
   ]
  },
  {
   "cell_type": "code",
   "execution_count": 58,
   "id": "84ee7554",
   "metadata": {},
   "outputs": [],
   "source": [
    "data['CS-412'] = le.fit_transform(data['CS-412'])"
   ]
  },
  {
   "cell_type": "code",
   "execution_count": 59,
   "id": "8e075535",
   "metadata": {},
   "outputs": [
    {
     "data": {
      "text/html": [
       "<div>\n",
       "<style scoped>\n",
       "    .dataframe tbody tr th:only-of-type {\n",
       "        vertical-align: middle;\n",
       "    }\n",
       "\n",
       "    .dataframe tbody tr th {\n",
       "        vertical-align: top;\n",
       "    }\n",
       "\n",
       "    .dataframe thead th {\n",
       "        text-align: right;\n",
       "    }\n",
       "</style>\n",
       "<table border=\"1\" class=\"dataframe\">\n",
       "  <thead>\n",
       "    <tr style=\"text-align: right;\">\n",
       "      <th></th>\n",
       "      <th>PH-121</th>\n",
       "      <th>HS-101</th>\n",
       "      <th>CY-105</th>\n",
       "      <th>HS-105/12</th>\n",
       "      <th>MT-111</th>\n",
       "      <th>CS-105</th>\n",
       "      <th>CS-106</th>\n",
       "      <th>EL-102</th>\n",
       "      <th>EE-119</th>\n",
       "      <th>ME-107</th>\n",
       "      <th>...</th>\n",
       "      <th>CS-312</th>\n",
       "      <th>CS-317</th>\n",
       "      <th>CS-403</th>\n",
       "      <th>CS-421</th>\n",
       "      <th>CS-406</th>\n",
       "      <th>CS-414</th>\n",
       "      <th>CS-419</th>\n",
       "      <th>CS-423</th>\n",
       "      <th>CS-412</th>\n",
       "      <th>CGPA</th>\n",
       "    </tr>\n",
       "    <tr>\n",
       "      <th>Seat No.</th>\n",
       "      <th></th>\n",
       "      <th></th>\n",
       "      <th></th>\n",
       "      <th></th>\n",
       "      <th></th>\n",
       "      <th></th>\n",
       "      <th></th>\n",
       "      <th></th>\n",
       "      <th></th>\n",
       "      <th></th>\n",
       "      <th></th>\n",
       "      <th></th>\n",
       "      <th></th>\n",
       "      <th></th>\n",
       "      <th></th>\n",
       "      <th></th>\n",
       "      <th></th>\n",
       "      <th></th>\n",
       "      <th></th>\n",
       "      <th></th>\n",
       "      <th></th>\n",
       "    </tr>\n",
       "  </thead>\n",
       "  <tbody>\n",
       "    <tr>\n",
       "      <th>CS-97001</th>\n",
       "      <td>5</td>\n",
       "      <td>10</td>\n",
       "      <td>8</td>\n",
       "      <td>6</td>\n",
       "      <td>8</td>\n",
       "      <td>10</td>\n",
       "      <td>9</td>\n",
       "      <td>8</td>\n",
       "      <td>5</td>\n",
       "      <td>8</td>\n",
       "      <td>...</td>\n",
       "      <td>8</td>\n",
       "      <td>8</td>\n",
       "      <td>8</td>\n",
       "      <td>8</td>\n",
       "      <td>2</td>\n",
       "      <td>0</td>\n",
       "      <td>8</td>\n",
       "      <td>3</td>\n",
       "      <td>2</td>\n",
       "      <td>2.205</td>\n",
       "    </tr>\n",
       "    <tr>\n",
       "      <th>CS-97002</th>\n",
       "      <td>0</td>\n",
       "      <td>9</td>\n",
       "      <td>10</td>\n",
       "      <td>9</td>\n",
       "      <td>5</td>\n",
       "      <td>6</td>\n",
       "      <td>9</td>\n",
       "      <td>0</td>\n",
       "      <td>10</td>\n",
       "      <td>9</td>\n",
       "      <td>...</td>\n",
       "      <td>10</td>\n",
       "      <td>9</td>\n",
       "      <td>6</td>\n",
       "      <td>9</td>\n",
       "      <td>2</td>\n",
       "      <td>5</td>\n",
       "      <td>6</td>\n",
       "      <td>6</td>\n",
       "      <td>3</td>\n",
       "      <td>2.008</td>\n",
       "    </tr>\n",
       "    <tr>\n",
       "      <th>CS-97003</th>\n",
       "      <td>0</td>\n",
       "      <td>3</td>\n",
       "      <td>0</td>\n",
       "      <td>5</td>\n",
       "      <td>4</td>\n",
       "      <td>0</td>\n",
       "      <td>5</td>\n",
       "      <td>4</td>\n",
       "      <td>2</td>\n",
       "      <td>2</td>\n",
       "      <td>...</td>\n",
       "      <td>3</td>\n",
       "      <td>3</td>\n",
       "      <td>0</td>\n",
       "      <td>6</td>\n",
       "      <td>0</td>\n",
       "      <td>0</td>\n",
       "      <td>0</td>\n",
       "      <td>2</td>\n",
       "      <td>0</td>\n",
       "      <td>3.608</td>\n",
       "    </tr>\n",
       "    <tr>\n",
       "      <th>CS-97004</th>\n",
       "      <td>9</td>\n",
       "      <td>7</td>\n",
       "      <td>10</td>\n",
       "      <td>9</td>\n",
       "      <td>9</td>\n",
       "      <td>2</td>\n",
       "      <td>10</td>\n",
       "      <td>8</td>\n",
       "      <td>9</td>\n",
       "      <td>7</td>\n",
       "      <td>...</td>\n",
       "      <td>10</td>\n",
       "      <td>6</td>\n",
       "      <td>10</td>\n",
       "      <td>8</td>\n",
       "      <td>5</td>\n",
       "      <td>3</td>\n",
       "      <td>7</td>\n",
       "      <td>7</td>\n",
       "      <td>7</td>\n",
       "      <td>1.906</td>\n",
       "    </tr>\n",
       "    <tr>\n",
       "      <th>CS-97005</th>\n",
       "      <td>2</td>\n",
       "      <td>2</td>\n",
       "      <td>2</td>\n",
       "      <td>4</td>\n",
       "      <td>0</td>\n",
       "      <td>0</td>\n",
       "      <td>2</td>\n",
       "      <td>4</td>\n",
       "      <td>0</td>\n",
       "      <td>2</td>\n",
       "      <td>...</td>\n",
       "      <td>5</td>\n",
       "      <td>4</td>\n",
       "      <td>4</td>\n",
       "      <td>5</td>\n",
       "      <td>2</td>\n",
       "      <td>0</td>\n",
       "      <td>2</td>\n",
       "      <td>2</td>\n",
       "      <td>0</td>\n",
       "      <td>3.448</td>\n",
       "    </tr>\n",
       "  </tbody>\n",
       "</table>\n",
       "<p>5 rows × 42 columns</p>\n",
       "</div>"
      ],
      "text/plain": [
       "          PH-121  HS-101  CY-105  HS-105/12  MT-111  CS-105  CS-106  EL-102  \\\n",
       "Seat No.                                                                      \n",
       "CS-97001       5      10       8          6       8      10       9       8   \n",
       "CS-97002       0       9      10          9       5       6       9       0   \n",
       "CS-97003       0       3       0          5       4       0       5       4   \n",
       "CS-97004       9       7      10          9       9       2      10       8   \n",
       "CS-97005       2       2       2          4       0       0       2       4   \n",
       "\n",
       "          EE-119  ME-107  ...  CS-312  CS-317  CS-403  CS-421  CS-406  CS-414  \\\n",
       "Seat No.                  ...                                                   \n",
       "CS-97001       5       8  ...       8       8       8       8       2       0   \n",
       "CS-97002      10       9  ...      10       9       6       9       2       5   \n",
       "CS-97003       2       2  ...       3       3       0       6       0       0   \n",
       "CS-97004       9       7  ...      10       6      10       8       5       3   \n",
       "CS-97005       0       2  ...       5       4       4       5       2       0   \n",
       "\n",
       "          CS-419  CS-423  CS-412   CGPA  \n",
       "Seat No.                                 \n",
       "CS-97001       8       3       2  2.205  \n",
       "CS-97002       6       6       3  2.008  \n",
       "CS-97003       0       2       0  3.608  \n",
       "CS-97004       7       7       7  1.906  \n",
       "CS-97005       2       2       0  3.448  \n",
       "\n",
       "[5 rows x 42 columns]"
      ]
     },
     "execution_count": 59,
     "metadata": {},
     "output_type": "execute_result"
    }
   ],
   "source": [
    "data.head()"
   ]
  },
  {
   "cell_type": "code",
   "execution_count": 60,
   "id": "cb531561",
   "metadata": {},
   "outputs": [],
   "source": [
    "from sklearn.linear_model import LinearRegression\n",
    "from sklearn.model_selection import train_test_split\n",
    "from sklearn.metrics import r2_score,mean_squared_error,mean_absolute_error"
   ]
  },
  {
   "cell_type": "code",
   "execution_count": 61,
   "id": "e9c3324a",
   "metadata": {},
   "outputs": [],
   "source": [
    "x = data.drop('CGPA',axis=1)\n",
    "\n",
    "y = data['CGPA']"
   ]
  },
  {
   "cell_type": "code",
   "execution_count": 62,
   "id": "1e52bbbf",
   "metadata": {},
   "outputs": [],
   "source": [
    "x_train,x_test,y_train,y_test = train_test_split(x,y,test_size=0.20,random_state=66)"
   ]
  },
  {
   "cell_type": "markdown",
   "id": "6bba4806",
   "metadata": {},
   "source": [
    "# LR"
   ]
  },
  {
   "cell_type": "code",
   "execution_count": 63,
   "id": "cb8d5924",
   "metadata": {},
   "outputs": [],
   "source": [
    "lr = LinearRegression()"
   ]
  },
  {
   "cell_type": "code",
   "execution_count": 64,
   "id": "7490df98",
   "metadata": {},
   "outputs": [
    {
     "data": {
      "text/plain": [
       "LinearRegression()"
      ]
     },
     "execution_count": 64,
     "metadata": {},
     "output_type": "execute_result"
    }
   ],
   "source": [
    "lr.fit(x_train,y_train)"
   ]
  },
  {
   "cell_type": "code",
   "execution_count": 65,
   "id": "09555fe7",
   "metadata": {},
   "outputs": [],
   "source": [
    "pred1 = lr.predict(x_train)"
   ]
  },
  {
   "cell_type": "code",
   "execution_count": 66,
   "id": "b7e74827",
   "metadata": {},
   "outputs": [],
   "source": [
    "pred2 = lr.predict(x_test)"
   ]
  },
  {
   "cell_type": "code",
   "execution_count": 67,
   "id": "c83fb5d5",
   "metadata": {},
   "outputs": [
    {
     "name": "stdout",
     "output_type": "stream",
     "text": [
      "Trainning Score:0.9503108830648895\n"
     ]
    }
   ],
   "source": [
    "print(f\"Trainning Score:{r2_score(y_train,pred1)}\")"
   ]
  },
  {
   "cell_type": "code",
   "execution_count": 68,
   "id": "072d8476",
   "metadata": {},
   "outputs": [
    {
     "name": "stdout",
     "output_type": "stream",
     "text": [
      "Test Score:0.9705110758262745\n"
     ]
    }
   ],
   "source": [
    "print(f\"Test Score:{r2_score(y_test,pred2)}\")"
   ]
  },
  {
   "cell_type": "code",
   "execution_count": 69,
   "id": "5d94af61",
   "metadata": {},
   "outputs": [],
   "source": [
    "from sklearn.model_selection import cross_val_score"
   ]
  },
  {
   "cell_type": "code",
   "execution_count": 70,
   "id": "963dfa4d",
   "metadata": {},
   "outputs": [
    {
     "data": {
      "text/plain": [
       "0.929832914224046"
      ]
     },
     "execution_count": 70,
     "metadata": {},
     "output_type": "execute_result"
    }
   ],
   "source": [
    "cv =cross_val_score(lr,x,y)\n",
    "\n",
    "cv_mean = cv.mean()\n",
    "\n",
    "cv_mean"
   ]
  },
  {
   "cell_type": "markdown",
   "id": "97e7337a",
   "metadata": {},
   "source": [
    "# LASSSO"
   ]
  },
  {
   "cell_type": "code",
   "execution_count": 71,
   "id": "e625c60b",
   "metadata": {},
   "outputs": [],
   "source": [
    "from sklearn.linear_model import Lasso"
   ]
  },
  {
   "cell_type": "code",
   "execution_count": 72,
   "id": "e8c147fe",
   "metadata": {},
   "outputs": [],
   "source": [
    "ls = Lasso()"
   ]
  },
  {
   "cell_type": "code",
   "execution_count": 73,
   "id": "b86a6ef0",
   "metadata": {},
   "outputs": [
    {
     "data": {
      "text/plain": [
       "Lasso()"
      ]
     },
     "execution_count": 73,
     "metadata": {},
     "output_type": "execute_result"
    }
   ],
   "source": [
    "ls.fit(x_train,y_train)"
   ]
  },
  {
   "cell_type": "code",
   "execution_count": 74,
   "id": "94f6d61b",
   "metadata": {},
   "outputs": [],
   "source": [
    "pred1 = ls.predict(x_train)"
   ]
  },
  {
   "cell_type": "code",
   "execution_count": 75,
   "id": "0b0adb52",
   "metadata": {},
   "outputs": [],
   "source": [
    "pred2 = ls.predict(x_test)"
   ]
  },
  {
   "cell_type": "code",
   "execution_count": 76,
   "id": "fbb0a942",
   "metadata": {},
   "outputs": [
    {
     "name": "stdout",
     "output_type": "stream",
     "text": [
      "Trainning Score:0.4853337340965591\n"
     ]
    }
   ],
   "source": [
    "print(f\"Trainning Score:{r2_score(y_train,pred1)}\")"
   ]
  },
  {
   "cell_type": "code",
   "execution_count": 77,
   "id": "8b448e3c",
   "metadata": {},
   "outputs": [
    {
     "name": "stdout",
     "output_type": "stream",
     "text": [
      "Test Score:0.47365726219858106\n"
     ]
    }
   ],
   "source": [
    "print(f\"Test Score:{r2_score(y_test,pred2)}\")"
   ]
  },
  {
   "cell_type": "code",
   "execution_count": 78,
   "id": "b53cdbf2",
   "metadata": {},
   "outputs": [],
   "source": [
    "from sklearn.model_selection import GridSearchCV"
   ]
  },
  {
   "cell_type": "code",
   "execution_count": 79,
   "id": "62abdf10",
   "metadata": {},
   "outputs": [],
   "source": [
    "para = {'alpha':np.arange(0.001,10,0.01),\n",
    "       'selection':['cyclic', 'random']}"
   ]
  },
  {
   "cell_type": "code",
   "execution_count": 80,
   "id": "e5c9089a",
   "metadata": {},
   "outputs": [],
   "source": [
    "gs = GridSearchCV(ls,para,n_jobs=1)"
   ]
  },
  {
   "cell_type": "code",
   "execution_count": 81,
   "id": "620b177e",
   "metadata": {},
   "outputs": [
    {
     "data": {
      "text/plain": [
       "GridSearchCV(estimator=Lasso(), n_jobs=1,\n",
       "             param_grid={'alpha': array([1.000e-03, 1.100e-02, 2.100e-02, 3.100e-02, 4.100e-02, 5.100e-02,\n",
       "       6.100e-02, 7.100e-02, 8.100e-02, 9.100e-02, 1.010e-01, 1.110e-01,\n",
       "       1.210e-01, 1.310e-01, 1.410e-01, 1.510e-01, 1.610e-01, 1.710e-01,\n",
       "       1.810e-01, 1.910e-01, 2.010e-01, 2.110e-01, 2.210e-01, 2.310e-01,\n",
       "       2.410e-01, 2.510e-01, 2.610e-01, 2.710e-01, 2.8...\n",
       "       9.661e+00, 9.671e+00, 9.681e+00, 9.691e+00, 9.701e+00, 9.711e+00,\n",
       "       9.721e+00, 9.731e+00, 9.741e+00, 9.751e+00, 9.761e+00, 9.771e+00,\n",
       "       9.781e+00, 9.791e+00, 9.801e+00, 9.811e+00, 9.821e+00, 9.831e+00,\n",
       "       9.841e+00, 9.851e+00, 9.861e+00, 9.871e+00, 9.881e+00, 9.891e+00,\n",
       "       9.901e+00, 9.911e+00, 9.921e+00, 9.931e+00, 9.941e+00, 9.951e+00,\n",
       "       9.961e+00, 9.971e+00, 9.981e+00, 9.991e+00]),\n",
       "                         'selection': ['cyclic', 'random']})"
      ]
     },
     "execution_count": 81,
     "metadata": {},
     "output_type": "execute_result"
    }
   ],
   "source": [
    "gs.fit(x_train,y_train)"
   ]
  },
  {
   "cell_type": "code",
   "execution_count": 82,
   "id": "b53372e3",
   "metadata": {},
   "outputs": [
    {
     "data": {
      "text/plain": [
       "{'alpha': 0.030999999999999996, 'selection': 'random'}"
      ]
     },
     "execution_count": 82,
     "metadata": {},
     "output_type": "execute_result"
    }
   ],
   "source": [
    "gs.best_params_"
   ]
  },
  {
   "cell_type": "code",
   "execution_count": 83,
   "id": "68f0e6cf",
   "metadata": {},
   "outputs": [
    {
     "data": {
      "text/plain": [
       "Lasso(alpha=0.030999999999999996, selection='random')"
      ]
     },
     "execution_count": 83,
     "metadata": {},
     "output_type": "execute_result"
    }
   ],
   "source": [
    "gs.best_estimator_.fit(x_train,y_train)"
   ]
  },
  {
   "cell_type": "code",
   "execution_count": 84,
   "id": "0d331bbb",
   "metadata": {},
   "outputs": [],
   "source": [
    "pred1 = gs.best_estimator_.predict(x_train)"
   ]
  },
  {
   "cell_type": "code",
   "execution_count": 85,
   "id": "63af344a",
   "metadata": {},
   "outputs": [],
   "source": [
    "pred2 = gs.best_estimator_.predict(x_test)"
   ]
  },
  {
   "cell_type": "code",
   "execution_count": 86,
   "id": "7783fa47",
   "metadata": {},
   "outputs": [
    {
     "name": "stdout",
     "output_type": "stream",
     "text": [
      "Trainning Score:0.9491145156499935\n"
     ]
    }
   ],
   "source": [
    "print(f\"Trainning Score:{r2_score(y_train,pred1)}\")"
   ]
  },
  {
   "cell_type": "code",
   "execution_count": 87,
   "id": "4be4c62b",
   "metadata": {},
   "outputs": [
    {
     "name": "stdout",
     "output_type": "stream",
     "text": [
      "Test Score:0.9704619405863725\n"
     ]
    }
   ],
   "source": [
    "print(f\"Test Score:{r2_score(y_test,pred2)}\")"
   ]
  },
  {
   "cell_type": "code",
   "execution_count": 88,
   "id": "240f48e6",
   "metadata": {},
   "outputs": [
    {
     "data": {
      "text/plain": [
       "0.9333829086665828"
      ]
     },
     "execution_count": 88,
     "metadata": {},
     "output_type": "execute_result"
    }
   ],
   "source": [
    "cv =cross_val_score(gs.best_estimator_,x,y)\n",
    "\n",
    "cv_mean = cv.mean()\n",
    "\n",
    "cv_mean"
   ]
  },
  {
   "cell_type": "markdown",
   "id": "e1c5780d",
   "metadata": {},
   "source": [
    "# RIDGE"
   ]
  },
  {
   "cell_type": "code",
   "execution_count": 89,
   "id": "aa8f494d",
   "metadata": {},
   "outputs": [],
   "source": [
    "from sklearn.linear_model import Ridge"
   ]
  },
  {
   "cell_type": "code",
   "execution_count": 90,
   "id": "902052c6",
   "metadata": {},
   "outputs": [],
   "source": [
    "ri = Ridge()"
   ]
  },
  {
   "cell_type": "code",
   "execution_count": 91,
   "id": "d67fbbca",
   "metadata": {},
   "outputs": [
    {
     "data": {
      "text/plain": [
       "Ridge()"
      ]
     },
     "execution_count": 91,
     "metadata": {},
     "output_type": "execute_result"
    }
   ],
   "source": [
    "ri.fit(x_train,y_train)"
   ]
  },
  {
   "cell_type": "code",
   "execution_count": 92,
   "id": "16c0b361",
   "metadata": {},
   "outputs": [],
   "source": [
    "pred1 = ri.predict(x_train)"
   ]
  },
  {
   "cell_type": "code",
   "execution_count": 93,
   "id": "3b9d8f6f",
   "metadata": {},
   "outputs": [],
   "source": [
    "pred2 = ri.predict(x_test)"
   ]
  },
  {
   "cell_type": "code",
   "execution_count": 94,
   "id": "5f75f459",
   "metadata": {},
   "outputs": [
    {
     "name": "stdout",
     "output_type": "stream",
     "text": [
      "Trainning Score:0.9503108747954021\n"
     ]
    }
   ],
   "source": [
    "print(f\"Trainning Score:{r2_score(y_train,pred1)}\")"
   ]
  },
  {
   "cell_type": "code",
   "execution_count": 95,
   "id": "7c76501c",
   "metadata": {},
   "outputs": [
    {
     "name": "stdout",
     "output_type": "stream",
     "text": [
      "Test Score:0.9705245560739818\n"
     ]
    }
   ],
   "source": [
    "print(f\"Test Score:{r2_score(y_test,pred2)}\")"
   ]
  },
  {
   "cell_type": "code",
   "execution_count": 96,
   "id": "929e7593",
   "metadata": {},
   "outputs": [],
   "source": [
    "para = {'alpha':range(1,10,1),\n",
    "       'solver':['auto', 'svd', 'cholesky', 'lsqr', 'sparse_cg','sag', 'saga', 'lbfgs']}"
   ]
  },
  {
   "cell_type": "code",
   "execution_count": 97,
   "id": "c1173d64",
   "metadata": {},
   "outputs": [],
   "source": [
    "gs = GridSearchCV(ri,para,n_jobs=1)"
   ]
  },
  {
   "cell_type": "code",
   "execution_count": 98,
   "id": "5dd5c44e",
   "metadata": {},
   "outputs": [
    {
     "data": {
      "text/plain": [
       "GridSearchCV(estimator=Ridge(), n_jobs=1,\n",
       "             param_grid={'alpha': range(1, 10),\n",
       "                         'solver': ['auto', 'svd', 'cholesky', 'lsqr',\n",
       "                                    'sparse_cg', 'sag', 'saga', 'lbfgs']})"
      ]
     },
     "execution_count": 98,
     "metadata": {},
     "output_type": "execute_result"
    }
   ],
   "source": [
    "gs.fit(x_train,y_train)"
   ]
  },
  {
   "cell_type": "code",
   "execution_count": 99,
   "id": "1eef5d13",
   "metadata": {},
   "outputs": [
    {
     "data": {
      "text/plain": [
       "{'alpha': 8, 'solver': 'saga'}"
      ]
     },
     "execution_count": 99,
     "metadata": {},
     "output_type": "execute_result"
    }
   ],
   "source": [
    "gs.best_params_"
   ]
  },
  {
   "cell_type": "code",
   "execution_count": 100,
   "id": "51b11927",
   "metadata": {},
   "outputs": [
    {
     "data": {
      "text/plain": [
       "Ridge(alpha=8, solver='saga')"
      ]
     },
     "execution_count": 100,
     "metadata": {},
     "output_type": "execute_result"
    }
   ],
   "source": [
    "gs.best_estimator_.fit(x_train,y_train)"
   ]
  },
  {
   "cell_type": "code",
   "execution_count": 101,
   "id": "7ae39b1c",
   "metadata": {},
   "outputs": [],
   "source": [
    "pred1 = gs.best_estimator_.predict(x_train)"
   ]
  },
  {
   "cell_type": "code",
   "execution_count": 102,
   "id": "028c2323",
   "metadata": {},
   "outputs": [],
   "source": [
    "pred2 = gs.best_estimator_.predict(x_test)"
   ]
  },
  {
   "cell_type": "code",
   "execution_count": 103,
   "id": "7027e1c5",
   "metadata": {},
   "outputs": [
    {
     "name": "stdout",
     "output_type": "stream",
     "text": [
      "Trainning Score:0.9503086155398799\n"
     ]
    }
   ],
   "source": [
    "print(f\"Trainning Score:{r2_score(y_train,pred1)}\")"
   ]
  },
  {
   "cell_type": "code",
   "execution_count": 104,
   "id": "4da98f97",
   "metadata": {},
   "outputs": [
    {
     "name": "stdout",
     "output_type": "stream",
     "text": [
      "Test Score:0.9706762897853113\n"
     ]
    }
   ],
   "source": [
    "print(f\"Test Score:{r2_score(y_test,pred2)}\")"
   ]
  },
  {
   "cell_type": "code",
   "execution_count": 105,
   "id": "88b7a2bb",
   "metadata": {},
   "outputs": [
    {
     "data": {
      "text/plain": [
       "0.9300513557795126"
      ]
     },
     "execution_count": 105,
     "metadata": {},
     "output_type": "execute_result"
    }
   ],
   "source": [
    "cv =cross_val_score(gs.best_estimator_,x,y)\n",
    "\n",
    "cv_mean = cv.mean()\n",
    "\n",
    "cv_mean"
   ]
  },
  {
   "cell_type": "markdown",
   "id": "b1b5ace6",
   "metadata": {},
   "source": [
    "# knn"
   ]
  },
  {
   "cell_type": "code",
   "execution_count": 106,
   "id": "c160d7be",
   "metadata": {},
   "outputs": [],
   "source": [
    "from sklearn.neighbors import KNeighborsRegressor"
   ]
  },
  {
   "cell_type": "code",
   "execution_count": 107,
   "id": "c8ccb780",
   "metadata": {},
   "outputs": [],
   "source": [
    "knn = KNeighborsRegressor()"
   ]
  },
  {
   "cell_type": "code",
   "execution_count": 108,
   "id": "8ab44aa8",
   "metadata": {},
   "outputs": [
    {
     "data": {
      "text/plain": [
       "KNeighborsRegressor()"
      ]
     },
     "execution_count": 108,
     "metadata": {},
     "output_type": "execute_result"
    }
   ],
   "source": [
    "knn.fit(x_train,y_train)"
   ]
  },
  {
   "cell_type": "code",
   "execution_count": 109,
   "id": "2cad7542",
   "metadata": {},
   "outputs": [],
   "source": [
    "pred1 = knn.predict(x_train)"
   ]
  },
  {
   "cell_type": "code",
   "execution_count": 110,
   "id": "1f0b2a9c",
   "metadata": {},
   "outputs": [],
   "source": [
    "pred2 = knn.predict(x_test)"
   ]
  },
  {
   "cell_type": "code",
   "execution_count": 111,
   "id": "8c2d85a3",
   "metadata": {},
   "outputs": [
    {
     "name": "stdout",
     "output_type": "stream",
     "text": [
      "Trainning Score:0.9599230926897407\n"
     ]
    }
   ],
   "source": [
    "print(f\"Trainning Score:{r2_score(y_train,pred1)}\")"
   ]
  },
  {
   "cell_type": "code",
   "execution_count": 112,
   "id": "71c1e8be",
   "metadata": {},
   "outputs": [
    {
     "name": "stdout",
     "output_type": "stream",
     "text": [
      "Test Score:0.9723402941026305\n"
     ]
    }
   ],
   "source": [
    "print(f\"Test Score:{r2_score(y_test,pred2)}\")"
   ]
  },
  {
   "cell_type": "code",
   "execution_count": 113,
   "id": "65618fff",
   "metadata": {},
   "outputs": [
    {
     "data": {
      "text/plain": [
       "0.9352004784394703"
      ]
     },
     "execution_count": 113,
     "metadata": {},
     "output_type": "execute_result"
    }
   ],
   "source": [
    "cv =cross_val_score(knn,x,y)\n",
    "\n",
    "cv_mean = cv.mean()\n",
    "\n",
    "cv_mean"
   ]
  },
  {
   "cell_type": "markdown",
   "id": "c7ebb9da",
   "metadata": {},
   "source": [
    "# DecisionTree"
   ]
  },
  {
   "cell_type": "code",
   "execution_count": 114,
   "id": "7ffa32a9",
   "metadata": {},
   "outputs": [],
   "source": [
    "from sklearn.tree import DecisionTreeRegressor"
   ]
  },
  {
   "cell_type": "code",
   "execution_count": 115,
   "id": "7380aa30",
   "metadata": {},
   "outputs": [],
   "source": [
    "dt = DecisionTreeRegressor()"
   ]
  },
  {
   "cell_type": "code",
   "execution_count": 116,
   "id": "311eee97",
   "metadata": {},
   "outputs": [
    {
     "data": {
      "text/plain": [
       "DecisionTreeRegressor()"
      ]
     },
     "execution_count": 116,
     "metadata": {},
     "output_type": "execute_result"
    }
   ],
   "source": [
    "dt.fit(x_train,y_train)"
   ]
  },
  {
   "cell_type": "code",
   "execution_count": 117,
   "id": "b7103b92",
   "metadata": {},
   "outputs": [],
   "source": [
    "pred1 = dt.predict(x_train)"
   ]
  },
  {
   "cell_type": "code",
   "execution_count": 118,
   "id": "4f5324d3",
   "metadata": {},
   "outputs": [],
   "source": [
    "pred2 = dt.predict(x_test)"
   ]
  },
  {
   "cell_type": "code",
   "execution_count": 119,
   "id": "40a1530c",
   "metadata": {},
   "outputs": [
    {
     "name": "stdout",
     "output_type": "stream",
     "text": [
      "Trainning Score:1.0\n"
     ]
    }
   ],
   "source": [
    "print(f\"Trainning Score:{r2_score(y_train,pred1)}\")"
   ]
  },
  {
   "cell_type": "code",
   "execution_count": 120,
   "id": "7cf62329",
   "metadata": {},
   "outputs": [
    {
     "name": "stdout",
     "output_type": "stream",
     "text": [
      "Test Score:0.8237342966765914\n"
     ]
    }
   ],
   "source": [
    "print(f\"Test Score:{r2_score(y_test,pred2)}\")"
   ]
  },
  {
   "cell_type": "code",
   "execution_count": 121,
   "id": "3917aa3a",
   "metadata": {},
   "outputs": [
    {
     "data": {
      "text/plain": [
       "0.805055574068222"
      ]
     },
     "execution_count": 121,
     "metadata": {},
     "output_type": "execute_result"
    }
   ],
   "source": [
    "cv =cross_val_score(dt,x,y)\n",
    "\n",
    "cv_mean = cv.mean()\n",
    "\n",
    "cv_mean"
   ]
  },
  {
   "cell_type": "markdown",
   "id": "cea1145d",
   "metadata": {},
   "source": [
    "# Random Forest"
   ]
  },
  {
   "cell_type": "code",
   "execution_count": 122,
   "id": "31ecfc30",
   "metadata": {},
   "outputs": [],
   "source": [
    "from sklearn.ensemble import RandomForestRegressor"
   ]
  },
  {
   "cell_type": "code",
   "execution_count": 123,
   "id": "a6869425",
   "metadata": {},
   "outputs": [],
   "source": [
    "rf = RandomForestRegressor()"
   ]
  },
  {
   "cell_type": "code",
   "execution_count": 124,
   "id": "d4c9bc53",
   "metadata": {},
   "outputs": [
    {
     "data": {
      "text/plain": [
       "RandomForestRegressor()"
      ]
     },
     "execution_count": 124,
     "metadata": {},
     "output_type": "execute_result"
    }
   ],
   "source": [
    "rf.fit(x_train,y_train)"
   ]
  },
  {
   "cell_type": "code",
   "execution_count": 125,
   "id": "19683926",
   "metadata": {},
   "outputs": [],
   "source": [
    "pred1 = rf.predict(x_train)"
   ]
  },
  {
   "cell_type": "code",
   "execution_count": 126,
   "id": "1d670de9",
   "metadata": {},
   "outputs": [],
   "source": [
    "pred2 = rf.predict(x_test)"
   ]
  },
  {
   "cell_type": "code",
   "execution_count": 127,
   "id": "6d6248c7",
   "metadata": {},
   "outputs": [
    {
     "name": "stdout",
     "output_type": "stream",
     "text": [
      "Trainning Score:0.9916728305990437\n"
     ]
    }
   ],
   "source": [
    "print(f\"Trainning Score:{r2_score(y_train,pred1)}\")"
   ]
  },
  {
   "cell_type": "code",
   "execution_count": 128,
   "id": "d3990e22",
   "metadata": {},
   "outputs": [
    {
     "name": "stdout",
     "output_type": "stream",
     "text": [
      "Test Score:0.9551116150044127\n"
     ]
    }
   ],
   "source": [
    "print(f\"Test Score:{r2_score(y_test,pred2)}\")"
   ]
  },
  {
   "cell_type": "code",
   "execution_count": 129,
   "id": "2463626c",
   "metadata": {},
   "outputs": [
    {
     "data": {
      "text/plain": [
       "0.9325863423094798"
      ]
     },
     "execution_count": 129,
     "metadata": {},
     "output_type": "execute_result"
    }
   ],
   "source": [
    "cv =cross_val_score(rf,x,y)\n",
    "\n",
    "cv_mean = cv.mean()\n",
    "\n",
    "cv_mean"
   ]
  },
  {
   "cell_type": "markdown",
   "id": "4a209aa7",
   "metadata": {},
   "source": [
    "# ADA"
   ]
  },
  {
   "cell_type": "code",
   "execution_count": 130,
   "id": "16133994",
   "metadata": {},
   "outputs": [],
   "source": [
    "from sklearn.ensemble import AdaBoostRegressor"
   ]
  },
  {
   "cell_type": "code",
   "execution_count": 131,
   "id": "6f6e84ca",
   "metadata": {},
   "outputs": [],
   "source": [
    "ada = AdaBoostRegressor()"
   ]
  },
  {
   "cell_type": "code",
   "execution_count": 132,
   "id": "f25c7f39",
   "metadata": {},
   "outputs": [
    {
     "data": {
      "text/plain": [
       "AdaBoostRegressor()"
      ]
     },
     "execution_count": 132,
     "metadata": {},
     "output_type": "execute_result"
    }
   ],
   "source": [
    "ada.fit(x_train,y_train)"
   ]
  },
  {
   "cell_type": "code",
   "execution_count": 133,
   "id": "1ef48ae0",
   "metadata": {},
   "outputs": [],
   "source": [
    "pred1 = ada.predict(x_train)"
   ]
  },
  {
   "cell_type": "code",
   "execution_count": 134,
   "id": "0ffc22ec",
   "metadata": {},
   "outputs": [],
   "source": [
    "pred2 = ada.predict(x_test)"
   ]
  },
  {
   "cell_type": "code",
   "execution_count": 135,
   "id": "ded60d0e",
   "metadata": {},
   "outputs": [
    {
     "name": "stdout",
     "output_type": "stream",
     "text": [
      "Trainning Score:0.943285606817142\n"
     ]
    }
   ],
   "source": [
    "print(f\"Trainning Score:{r2_score(y_train,pred1)}\")"
   ]
  },
  {
   "cell_type": "code",
   "execution_count": 136,
   "id": "08f56b85",
   "metadata": {},
   "outputs": [
    {
     "name": "stdout",
     "output_type": "stream",
     "text": [
      "Test Score:0.9106302087863347\n"
     ]
    }
   ],
   "source": [
    "print(f\"Test Score:{r2_score(y_test,pred2)}\")"
   ]
  },
  {
   "cell_type": "code",
   "execution_count": 137,
   "id": "e8cf4562",
   "metadata": {},
   "outputs": [
    {
     "data": {
      "text/plain": [
       "0.9089896337566452"
      ]
     },
     "execution_count": 137,
     "metadata": {},
     "output_type": "execute_result"
    }
   ],
   "source": [
    "cv =cross_val_score(ada,x,y)\n",
    "\n",
    "cv_mean = cv.mean()\n",
    "\n",
    "cv_mean"
   ]
  },
  {
   "cell_type": "markdown",
   "id": "64b75b1a",
   "metadata": {},
   "source": [
    "# GradientBoosting"
   ]
  },
  {
   "cell_type": "code",
   "execution_count": 138,
   "id": "8b7db6aa",
   "metadata": {},
   "outputs": [],
   "source": [
    "from sklearn.ensemble import GradientBoostingRegressor"
   ]
  },
  {
   "cell_type": "code",
   "execution_count": 139,
   "id": "87691de3",
   "metadata": {},
   "outputs": [],
   "source": [
    "gb = GradientBoostingRegressor()"
   ]
  },
  {
   "cell_type": "code",
   "execution_count": 140,
   "id": "fd0d0633",
   "metadata": {},
   "outputs": [
    {
     "data": {
      "text/plain": [
       "GradientBoostingRegressor()"
      ]
     },
     "execution_count": 140,
     "metadata": {},
     "output_type": "execute_result"
    }
   ],
   "source": [
    "gb.fit(x_train,y_train)"
   ]
  },
  {
   "cell_type": "code",
   "execution_count": 141,
   "id": "3eecabe0",
   "metadata": {},
   "outputs": [],
   "source": [
    "pred1 = gb.predict(x_train)"
   ]
  },
  {
   "cell_type": "code",
   "execution_count": 142,
   "id": "d206381e",
   "metadata": {},
   "outputs": [],
   "source": [
    "pred2 = gb.predict(x_test)"
   ]
  },
  {
   "cell_type": "code",
   "execution_count": 143,
   "id": "77565f0f",
   "metadata": {},
   "outputs": [
    {
     "name": "stdout",
     "output_type": "stream",
     "text": [
      "Trainning Score:0.9967082070986891\n"
     ]
    }
   ],
   "source": [
    "print(f\"Trainning Score:{r2_score(y_train,pred1)}\")"
   ]
  },
  {
   "cell_type": "code",
   "execution_count": 144,
   "id": "48bd231d",
   "metadata": {},
   "outputs": [
    {
     "name": "stdout",
     "output_type": "stream",
     "text": [
      "Test Score:0.9711203503518676\n"
     ]
    }
   ],
   "source": [
    "print(f\"Test Score:{r2_score(y_test,pred2)}\")"
   ]
  },
  {
   "cell_type": "code",
   "execution_count": 145,
   "id": "f1c906c0",
   "metadata": {},
   "outputs": [
    {
     "data": {
      "text/plain": [
       "0.9500537141920795"
      ]
     },
     "execution_count": 145,
     "metadata": {},
     "output_type": "execute_result"
    }
   ],
   "source": [
    "cv =cross_val_score(gb,x,y)\n",
    "\n",
    "cv_mean = cv.mean()\n",
    "\n",
    "cv_mean"
   ]
  },
  {
   "cell_type": "markdown",
   "id": "d3b8a951",
   "metadata": {},
   "source": [
    "# XGBOOST"
   ]
  },
  {
   "cell_type": "code",
   "execution_count": 146,
   "id": "460fec8b",
   "metadata": {},
   "outputs": [],
   "source": [
    "from xgboost import XGBRegressor"
   ]
  },
  {
   "cell_type": "code",
   "execution_count": 147,
   "id": "bfc6c2e0",
   "metadata": {},
   "outputs": [],
   "source": [
    "xg = XGBRegressor()"
   ]
  },
  {
   "cell_type": "code",
   "execution_count": 148,
   "id": "d907fc65",
   "metadata": {},
   "outputs": [
    {
     "data": {
      "text/plain": [
       "XGBRegressor(base_score=None, booster=None, callbacks=None,\n",
       "             colsample_bylevel=None, colsample_bynode=None,\n",
       "             colsample_bytree=None, early_stopping_rounds=None,\n",
       "             enable_categorical=False, eval_metric=None, feature_types=None,\n",
       "             gamma=None, gpu_id=None, grow_policy=None, importance_type=None,\n",
       "             interaction_constraints=None, learning_rate=None, max_bin=None,\n",
       "             max_cat_threshold=None, max_cat_to_onehot=None,\n",
       "             max_delta_step=None, max_depth=None, max_leaves=None,\n",
       "             min_child_weight=None, missing=nan, monotone_constraints=None,\n",
       "             n_estimators=100, n_jobs=None, num_parallel_tree=None,\n",
       "             predictor=None, random_state=None, ...)"
      ]
     },
     "execution_count": 148,
     "metadata": {},
     "output_type": "execute_result"
    }
   ],
   "source": [
    "xg.fit(x_train,y_train)"
   ]
  },
  {
   "cell_type": "code",
   "execution_count": 149,
   "id": "397bd99b",
   "metadata": {},
   "outputs": [],
   "source": [
    "pred1 = xg.predict(x_train)"
   ]
  },
  {
   "cell_type": "code",
   "execution_count": 150,
   "id": "40c84f00",
   "metadata": {},
   "outputs": [],
   "source": [
    "pred2 = xg.predict(x_test)"
   ]
  },
  {
   "cell_type": "code",
   "execution_count": 151,
   "id": "4e628f01",
   "metadata": {},
   "outputs": [
    {
     "name": "stdout",
     "output_type": "stream",
     "text": [
      "Trainning Score:0.9999980916307877\n"
     ]
    }
   ],
   "source": [
    "print(f\"Trainning Score:{r2_score(y_train,pred1)}\")"
   ]
  },
  {
   "cell_type": "code",
   "execution_count": 152,
   "id": "7eaeac95",
   "metadata": {},
   "outputs": [
    {
     "name": "stdout",
     "output_type": "stream",
     "text": [
      "Test Score:0.9532550253795661\n"
     ]
    }
   ],
   "source": [
    "print(f\"Test Score:{r2_score(y_test,pred2)}\")"
   ]
  },
  {
   "cell_type": "code",
   "execution_count": 153,
   "id": "b19c3466",
   "metadata": {},
   "outputs": [
    {
     "data": {
      "text/plain": [
       "0.9193424253344664"
      ]
     },
     "execution_count": 153,
     "metadata": {},
     "output_type": "execute_result"
    }
   ],
   "source": [
    "cv =cross_val_score(xg,x,y)\n",
    "\n",
    "cv_mean = cv.mean()\n",
    "\n",
    "cv_mean"
   ]
  },
  {
   "cell_type": "markdown",
   "id": "c3e150ce",
   "metadata": {},
   "source": [
    "# SVM"
   ]
  },
  {
   "cell_type": "code",
   "execution_count": 154,
   "id": "f9fc2fbc",
   "metadata": {},
   "outputs": [],
   "source": [
    "from sklearn.svm import SVR"
   ]
  },
  {
   "cell_type": "code",
   "execution_count": 155,
   "id": "666cd2be",
   "metadata": {},
   "outputs": [],
   "source": [
    "sv = SVR()"
   ]
  },
  {
   "cell_type": "code",
   "execution_count": 156,
   "id": "83297778",
   "metadata": {},
   "outputs": [
    {
     "data": {
      "text/plain": [
       "SVR()"
      ]
     },
     "execution_count": 156,
     "metadata": {},
     "output_type": "execute_result"
    }
   ],
   "source": [
    "sv.fit(x_train,y_train)"
   ]
  },
  {
   "cell_type": "code",
   "execution_count": 157,
   "id": "33bfc830",
   "metadata": {},
   "outputs": [],
   "source": [
    "pred1 = sv.predict(x_train)"
   ]
  },
  {
   "cell_type": "code",
   "execution_count": 158,
   "id": "2351c05b",
   "metadata": {},
   "outputs": [],
   "source": [
    "pred2 = sv.predict(x_test)"
   ]
  },
  {
   "cell_type": "code",
   "execution_count": 159,
   "id": "78c056c6",
   "metadata": {},
   "outputs": [
    {
     "name": "stdout",
     "output_type": "stream",
     "text": [
      "Trainning Score:0.9870484125243312\n"
     ]
    }
   ],
   "source": [
    "print(f\"Trainning Score:{r2_score(y_train,pred1)}\")"
   ]
  },
  {
   "cell_type": "code",
   "execution_count": 160,
   "id": "43072734",
   "metadata": {},
   "outputs": [
    {
     "name": "stdout",
     "output_type": "stream",
     "text": [
      "Test Score:0.9785709216223435\n"
     ]
    }
   ],
   "source": [
    "print(f\"Test Score:{r2_score(y_test,pred2)}\")"
   ]
  },
  {
   "cell_type": "code",
   "execution_count": 161,
   "id": "3166c780",
   "metadata": {},
   "outputs": [
    {
     "data": {
      "text/plain": [
       "0.9621971519612998"
      ]
     },
     "execution_count": 161,
     "metadata": {},
     "output_type": "execute_result"
    }
   ],
   "source": [
    "cv =cross_val_score(sv,x,y)\n",
    "\n",
    "cv_mean = cv.mean()\n",
    "\n",
    "cv_mean"
   ]
  },
  {
   "cell_type": "markdown",
   "id": "fd31b8d2",
   "metadata": {},
   "source": [
    "from all the above models SVM is performing the best"
   ]
  },
  {
   "cell_type": "markdown",
   "id": "1834843b",
   "metadata": {},
   "source": [
    "# HyperParameter Tuning"
   ]
  },
  {
   "cell_type": "code",
   "execution_count": 162,
   "id": "5b9423a9",
   "metadata": {},
   "outputs": [],
   "source": [
    "sv = SVR()"
   ]
  },
  {
   "cell_type": "code",
   "execution_count": 163,
   "id": "1da1950f",
   "metadata": {},
   "outputs": [],
   "source": [
    "para = {'kernel':['linear', 'poly', 'rbf', 'sigmoid'],\n",
    "       'gamma':['scale', 'auto']}"
   ]
  },
  {
   "cell_type": "code",
   "execution_count": 164,
   "id": "2b7ee456",
   "metadata": {},
   "outputs": [],
   "source": [
    "gs = GridSearchCV(sv,para,n_jobs=1)"
   ]
  },
  {
   "cell_type": "code",
   "execution_count": 165,
   "id": "f36cbc5e",
   "metadata": {},
   "outputs": [
    {
     "data": {
      "text/plain": [
       "GridSearchCV(estimator=SVR(), n_jobs=1,\n",
       "             param_grid={'gamma': ['scale', 'auto'],\n",
       "                         'kernel': ['linear', 'poly', 'rbf', 'sigmoid']})"
      ]
     },
     "execution_count": 165,
     "metadata": {},
     "output_type": "execute_result"
    }
   ],
   "source": [
    "gs.fit(x_train,y_train)"
   ]
  },
  {
   "cell_type": "code",
   "execution_count": 166,
   "id": "9a43ccb7",
   "metadata": {},
   "outputs": [
    {
     "data": {
      "text/plain": [
       "{'gamma': 'scale', 'kernel': 'rbf'}"
      ]
     },
     "execution_count": 166,
     "metadata": {},
     "output_type": "execute_result"
    }
   ],
   "source": [
    "gs.best_params_"
   ]
  },
  {
   "cell_type": "code",
   "execution_count": 167,
   "id": "9b3cd04d",
   "metadata": {},
   "outputs": [
    {
     "data": {
      "text/plain": [
       "SVR()"
      ]
     },
     "execution_count": 167,
     "metadata": {},
     "output_type": "execute_result"
    }
   ],
   "source": [
    "gs.best_estimator_.fit(x_train,y_train)"
   ]
  },
  {
   "cell_type": "code",
   "execution_count": 168,
   "id": "47f50ff7",
   "metadata": {},
   "outputs": [],
   "source": [
    "pred1  = gs.best_estimator_.predict(x_train)"
   ]
  },
  {
   "cell_type": "code",
   "execution_count": 169,
   "id": "5b76da23",
   "metadata": {},
   "outputs": [],
   "source": [
    "pred2  = gs.best_estimator_.predict(x_test)"
   ]
  },
  {
   "cell_type": "code",
   "execution_count": 170,
   "id": "e0481b88",
   "metadata": {},
   "outputs": [
    {
     "name": "stdout",
     "output_type": "stream",
     "text": [
      "Trainning Score:0.9870484125243312\n"
     ]
    }
   ],
   "source": [
    "print(f\"Trainning Score:{r2_score(y_train,pred1)}\")"
   ]
  },
  {
   "cell_type": "code",
   "execution_count": 171,
   "id": "33c95131",
   "metadata": {},
   "outputs": [
    {
     "name": "stdout",
     "output_type": "stream",
     "text": [
      "Test Score:0.9785709216223435\n"
     ]
    }
   ],
   "source": [
    "print(f\"Test Score:{r2_score(y_test,pred2)}\")"
   ]
  },
  {
   "cell_type": "code",
   "execution_count": 172,
   "id": "f53c0e07",
   "metadata": {},
   "outputs": [
    {
     "data": {
      "text/plain": [
       "0.9621971519612998"
      ]
     },
     "execution_count": 172,
     "metadata": {},
     "output_type": "execute_result"
    }
   ],
   "source": [
    "cv =cross_val_score(gs.best_estimator_,x,y)\n",
    "\n",
    "cv_mean = cv.mean()\n",
    "\n",
    "cv_mean"
   ]
  },
  {
   "cell_type": "code",
   "execution_count": 173,
   "id": "11374741",
   "metadata": {},
   "outputs": [
    {
     "data": {
      "text/plain": [
       "0.00790513303006377"
      ]
     },
     "execution_count": 173,
     "metadata": {},
     "output_type": "execute_result"
    }
   ],
   "source": [
    "mean_squared_error(y_test,pred2)"
   ]
  },
  {
   "cell_type": "code",
   "execution_count": 174,
   "id": "2776353a",
   "metadata": {},
   "outputs": [
    {
     "data": {
      "text/plain": [
       "0.0674447879080083"
      ]
     },
     "execution_count": 174,
     "metadata": {},
     "output_type": "execute_result"
    }
   ],
   "source": [
    "mean_absolute_error(y_test,pred2)"
   ]
  },
  {
   "cell_type": "code",
   "execution_count": 175,
   "id": "8808ee20",
   "metadata": {},
   "outputs": [],
   "source": [
    "conc = pd.DataFrame({\"Actual\":y_test,\"Predicted\":pred2})"
   ]
  },
  {
   "cell_type": "code",
   "execution_count": 176,
   "id": "b37a10bd",
   "metadata": {},
   "outputs": [
    {
     "data": {
      "text/html": [
       "<div>\n",
       "<style scoped>\n",
       "    .dataframe tbody tr th:only-of-type {\n",
       "        vertical-align: middle;\n",
       "    }\n",
       "\n",
       "    .dataframe tbody tr th {\n",
       "        vertical-align: top;\n",
       "    }\n",
       "\n",
       "    .dataframe thead th {\n",
       "        text-align: right;\n",
       "    }\n",
       "</style>\n",
       "<table border=\"1\" class=\"dataframe\">\n",
       "  <thead>\n",
       "    <tr style=\"text-align: right;\">\n",
       "      <th></th>\n",
       "      <th>Actual</th>\n",
       "      <th>Predicted</th>\n",
       "    </tr>\n",
       "    <tr>\n",
       "      <th>Seat No.</th>\n",
       "      <th></th>\n",
       "      <th></th>\n",
       "    </tr>\n",
       "  </thead>\n",
       "  <tbody>\n",
       "    <tr>\n",
       "      <th>CS-97292</th>\n",
       "      <td>3.605</td>\n",
       "      <td>3.538678</td>\n",
       "    </tr>\n",
       "    <tr>\n",
       "      <th>CS-97304</th>\n",
       "      <td>2.736</td>\n",
       "      <td>2.724829</td>\n",
       "    </tr>\n",
       "    <tr>\n",
       "      <th>CS-97205</th>\n",
       "      <td>3.164</td>\n",
       "      <td>3.023390</td>\n",
       "    </tr>\n",
       "    <tr>\n",
       "      <th>CS-97282</th>\n",
       "      <td>1.092</td>\n",
       "      <td>1.204586</td>\n",
       "    </tr>\n",
       "    <tr>\n",
       "      <th>CS-97426</th>\n",
       "      <td>3.207</td>\n",
       "      <td>3.256339</td>\n",
       "    </tr>\n",
       "    <tr>\n",
       "      <th>...</th>\n",
       "      <td>...</td>\n",
       "      <td>...</td>\n",
       "    </tr>\n",
       "    <tr>\n",
       "      <th>CS-97475</th>\n",
       "      <td>2.763</td>\n",
       "      <td>2.798753</td>\n",
       "    </tr>\n",
       "    <tr>\n",
       "      <th>CS-97538</th>\n",
       "      <td>3.386</td>\n",
       "      <td>3.275213</td>\n",
       "    </tr>\n",
       "    <tr>\n",
       "      <th>CS-97034</th>\n",
       "      <td>3.112</td>\n",
       "      <td>3.141088</td>\n",
       "    </tr>\n",
       "    <tr>\n",
       "      <th>CS-97465</th>\n",
       "      <td>3.607</td>\n",
       "      <td>3.557853</td>\n",
       "    </tr>\n",
       "    <tr>\n",
       "      <th>CS-97435</th>\n",
       "      <td>3.014</td>\n",
       "      <td>3.088882</td>\n",
       "    </tr>\n",
       "  </tbody>\n",
       "</table>\n",
       "<p>115 rows × 2 columns</p>\n",
       "</div>"
      ],
      "text/plain": [
       "          Actual  Predicted\n",
       "Seat No.                   \n",
       "CS-97292   3.605   3.538678\n",
       "CS-97304   2.736   2.724829\n",
       "CS-97205   3.164   3.023390\n",
       "CS-97282   1.092   1.204586\n",
       "CS-97426   3.207   3.256339\n",
       "...          ...        ...\n",
       "CS-97475   2.763   2.798753\n",
       "CS-97538   3.386   3.275213\n",
       "CS-97034   3.112   3.141088\n",
       "CS-97465   3.607   3.557853\n",
       "CS-97435   3.014   3.088882\n",
       "\n",
       "[115 rows x 2 columns]"
      ]
     },
     "execution_count": 176,
     "metadata": {},
     "output_type": "execute_result"
    }
   ],
   "source": [
    "conc"
   ]
  },
  {
   "cell_type": "code",
   "execution_count": null,
   "id": "c742f3e5",
   "metadata": {},
   "outputs": [],
   "source": []
  }
 ],
 "metadata": {
  "kernelspec": {
   "display_name": "Python 3 (ipykernel)",
   "language": "python",
   "name": "python3"
  },
  "language_info": {
   "codemirror_mode": {
    "name": "ipython",
    "version": 3
   },
   "file_extension": ".py",
   "mimetype": "text/x-python",
   "name": "python",
   "nbconvert_exporter": "python",
   "pygments_lexer": "ipython3",
   "version": "3.9.13"
  }
 },
 "nbformat": 4,
 "nbformat_minor": 5
}
